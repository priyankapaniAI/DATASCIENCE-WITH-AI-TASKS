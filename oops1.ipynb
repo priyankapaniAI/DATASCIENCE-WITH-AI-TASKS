{
 "cells": [
  {
   "cell_type": "code",
   "execution_count": null,
   "id": "afb71841",
   "metadata": {},
   "outputs": [
    {
     "name": "stdout",
     "output_type": "stream",
     "text": [
      "in init\n"
     ]
    }
   ],
   "source": [
    "class computer():        \n",
    "    \n",
    "    def __init__(self):\n",
    "        print('in init')\n",
    "\n",
    "com1 = computer()"
   ]
  },
  {
   "cell_type": "code",
   "execution_count": 5,
   "id": "42b9d721",
   "metadata": {},
   "outputs": [
    {
     "ename": "TypeError",
     "evalue": "computer.__init__() takes 1 positional argument but 3 were given",
     "output_type": "error",
     "traceback": [
      "\u001b[31m---------------------------------------------------------------------------\u001b[39m",
      "\u001b[31mTypeError\u001b[39m                                 Traceback (most recent call last)",
      "\u001b[36mCell\u001b[39m\u001b[36m \u001b[39m\u001b[32mIn[5]\u001b[39m\u001b[32m, line 9\u001b[39m\n\u001b[32m      6\u001b[39m     \u001b[38;5;28;01mdef\u001b[39;00m\u001b[38;5;250m \u001b[39m\u001b[34mconfig\u001b[39m(\u001b[38;5;28mself\u001b[39m):     \n\u001b[32m      7\u001b[39m         \u001b[38;5;28mprint\u001b[39m(\u001b[33m'\u001b[39m\u001b[33mi5\u001b[39m\u001b[33m'\u001b[39m, \u001b[33m'\u001b[39m\u001b[33m8gb\u001b[39m\u001b[33m'\u001b[39m)\n\u001b[32m----> \u001b[39m\u001b[32m9\u001b[39m com1 = \u001b[43mcomputer\u001b[49m\u001b[43m(\u001b[49m\u001b[33;43m'\u001b[39;49m\u001b[33;43m15\u001b[39;49m\u001b[33;43m'\u001b[39;49m\u001b[43m,\u001b[49m\u001b[32;43m8\u001b[39;49m\u001b[43m)\u001b[49m\n\u001b[32m     10\u001b[39m com2 = computer(\u001b[33m'\u001b[39m\u001b[33m17\u001b[39m\u001b[33m'\u001b[39m,\u001b[32m16\u001b[39m)\n\u001b[32m     12\u001b[39m com1.config()\n",
      "\u001b[31mTypeError\u001b[39m: computer.__init__() takes 1 positional argument but 3 were given"
     ]
    }
   ],
   "source": [
    "class computer():        \n",
    "    \n",
    "    def __init__(self):\n",
    "        print('in init')\n",
    "    \n",
    "    def config(self):     \n",
    "        print('i5', '8gb')\n",
    "\n",
    "com1 = computer('15',8)\n",
    "com2 = computer('17',16)\n",
    "\n",
    "com1.config()\n",
    "com2.config() \n"
   ]
  },
  {
   "cell_type": "code",
   "execution_count": 6,
   "id": "b2d0174e",
   "metadata": {},
   "outputs": [
    {
     "ename": "TypeError",
     "evalue": "computer.__init__() takes 3 positional arguments but 4 were given",
     "output_type": "error",
     "traceback": [
      "\u001b[31m---------------------------------------------------------------------------\u001b[39m",
      "\u001b[31mTypeError\u001b[39m                                 Traceback (most recent call last)",
      "\u001b[36mCell\u001b[39m\u001b[36m \u001b[39m\u001b[32mIn[6]\u001b[39m\u001b[32m, line 10\u001b[39m\n\u001b[32m      7\u001b[39m         \u001b[38;5;28mprint\u001b[39m(\u001b[33m'\u001b[39m\u001b[33mi5\u001b[39m\u001b[33m'\u001b[39m, \u001b[33m'\u001b[39m\u001b[33m8gb\u001b[39m\u001b[33m'\u001b[39m)\n\u001b[32m      8\u001b[39m         \u001b[38;5;28mprint\u001b[39m(\u001b[33m'\u001b[39m\u001b[33mi7\u001b[39m\u001b[33m'\u001b[39m, \u001b[32m16\u001b[39m)\n\u001b[32m---> \u001b[39m\u001b[32m10\u001b[39m com1 = \u001b[43mcomputer\u001b[49m\u001b[43m(\u001b[49m\u001b[33;43m'\u001b[39;49m\u001b[33;43mi5\u001b[39;49m\u001b[33;43m'\u001b[39;49m\u001b[43m,\u001b[49m\u001b[43m \u001b[49m\u001b[32;43m8\u001b[39;49m\u001b[43m,\u001b[49m\u001b[32;43m10000\u001b[39;49m\u001b[43m)\u001b[49m\n\u001b[32m     11\u001b[39m com2 = computer(\u001b[33m'\u001b[39m\u001b[33mi7\u001b[39m\u001b[33m'\u001b[39m, \u001b[32m16\u001b[39m,\u001b[32m20000\u001b[39m)\n\u001b[32m     13\u001b[39m com1.config() \n",
      "\u001b[31mTypeError\u001b[39m: computer.__init__() takes 3 positional arguments but 4 were given"
     ]
    }
   ],
   "source": [
    "class computer:        \n",
    "    \n",
    "    def __init__(self,cpu,ram): # cpu & ram as argument\n",
    "        print('in init')\n",
    "    \n",
    "    def config(self):     \n",
    "        print('i5', '8gb')\n",
    "        print('i7', 16)\n",
    "\n",
    "com1 = computer('i5', 8,10000)\n",
    "com2 = computer('i7', 16,20000)\n",
    "\n",
    "com1.config() \n",
    "com2.config()"
   ]
  },
  {
   "cell_type": "code",
   "execution_count": 7,
   "id": "b22b81ab",
   "metadata": {},
   "outputs": [
    {
     "name": "stdout",
     "output_type": "stream",
     "text": [
      "in init\n",
      "in init\n",
      "i5 8gb\n",
      "i7 16\n",
      "i5 8gb\n",
      "i7 16\n"
     ]
    }
   ],
   "source": [
    "class computer:        \n",
    "    \n",
    "    def __init__(self,cpu,ram,price): # cpu & ram as argument\n",
    "        print('in init')\n",
    "    \n",
    "    def config(self):     \n",
    "        print('i5', '8gb')\n",
    "        print('i7', 16)\n",
    "\n",
    "com1 = computer('i5', 8, 10000)\n",
    "com2 = computer('i7', 16, 20000)\n",
    "\n",
    "com1.config() \n",
    "com2.config()"
   ]
  },
  {
   "cell_type": "code",
   "execution_count": 3,
   "id": "d96a7333",
   "metadata": {},
   "outputs": [
    {
     "name": "stdout",
     "output_type": "stream",
     "text": [
      "in init\n",
      "in init\n",
      "i5 8gb\n",
      "i5 8gb\n"
     ]
    }
   ],
   "source": [
    "class computer():        \n",
    "    \n",
    "    def __init__(self,cpu,ram): \n",
    "        print('in init')\n",
    "    \n",
    "    def config(self):     \n",
    "        print('i5', '8gb')\n",
    "\n",
    "com1 = computer('i5', 8) # com1 has cpu i5 & ram is 8 \n",
    "com2 = computer('i7', 16) # com2 has cpu intel 5 & ram is 8 as we have 2 computer we have different ram & cpt\n",
    "\n",
    "com1.config() \n",
    "com2.config()"
   ]
  },
  {
   "cell_type": "code",
   "execution_count": 4,
   "id": "40471ce0",
   "metadata": {},
   "outputs": [
    {
     "name": "stdout",
     "output_type": "stream",
     "text": [
      "in init\n",
      "in init\n",
      "i5 8gb 10000\n",
      "i7 16 2000\n",
      "i5 8gb 10000\n",
      "i7 16 2000\n"
     ]
    }
   ],
   "source": [
    "class computer:        \n",
    "    \n",
    "    def __init__(self,cpu,ram, price): # cpu & ram as argument\n",
    "        print('in init')\n",
    "    \n",
    "    def config(self):     \n",
    "        print('i5', '8gb', 10000)\n",
    "        print('i7', 16, 2000)\n",
    "\n",
    "com1 = computer('i5', 8, 10000)\n",
    "com2 = computer('i7', 16, 20000)\n",
    "\n",
    "com1.config() \n",
    "com2.config()"
   ]
  },
  {
   "cell_type": "code",
   "execution_count": 5,
   "id": "c46238f9",
   "metadata": {},
   "outputs": [
    {
     "name": "stdout",
     "output_type": "stream",
     "text": [
      "config is i5 8\n",
      "config is i7 16\n"
     ]
    }
   ],
   "source": [
    "class computer():        \n",
    "    \n",
    "    def __init__(self,cpu,ram): # cpu & ram as argument\n",
    "        self.cpu = cpu #hear self is the object & we need to refer to the object\n",
    "        self.ram = ram \n",
    "  \n",
    "    def config(self):     \n",
    "        print('config is', self.cpu, self.ram)\n",
    "\n",
    "com1 = computer('i5', 8)\n",
    "com2 = computer('i7', 16)\n",
    "\n",
    "com1.config() \n",
    "com2.config()\n"
   ]
  },
  {
   "cell_type": "code",
   "execution_count": 6,
   "id": "de5469e4",
   "metadata": {},
   "outputs": [
    {
     "name": "stdout",
     "output_type": "stream",
     "text": [
      "config is i5 8 50000 hp\n",
      "config is i7 16 80000 lenovo\n"
     ]
    }
   ],
   "source": [
    "class computer():        \n",
    "    \n",
    "    def __init__(self,cpu,ram, price, company): # cpu & ram as argument\n",
    "        self.cpu = cpu # self is the object & we need to refer to the object\n",
    "        self.ram = ram \n",
    "        self.price = price\n",
    "        self.company = company\n",
    "  \n",
    "    def config(self):     \n",
    "        print('config is', self.cpu, self.ram, self.price, self.company)\n",
    "\n",
    "com1 = computer('i5', 8, 50000, 'hp')\n",
    "com2 = computer('i7', 16, 80000, 'lenovo')\n",
    "\n",
    "com1.config() \n",
    "com2.config()\n"
   ]
  },
  {
   "cell_type": "code",
   "execution_count": 7,
   "id": "ed7f9a0a",
   "metadata": {},
   "outputs": [],
   "source": [
    "#constructor and self"
   ]
  },
  {
   "cell_type": "code",
   "execution_count": 8,
   "id": "ab3ecbb5",
   "metadata": {},
   "outputs": [
    {
     "name": "stdout",
     "output_type": "stream",
     "text": [
      "akash 37\n",
      "akash\n"
     ]
    }
   ],
   "source": [
    "class computer(): \n",
    "    def __init__(self):\n",
    "        self.name = 'akash'\n",
    "        self.age = 37\n",
    "\n",
    "c1 = computer()\n",
    "c2 = computer()\n",
    "\n",
    "print(c1.name,c1.age)\n",
    "print(c2.name)"
   ]
  },
  {
   "cell_type": "code",
   "execution_count": 1,
   "id": "f30b9ca3",
   "metadata": {},
   "outputs": [
    {
     "name": "stdout",
     "output_type": "stream",
     "text": [
      "rakesh 38\n",
      "mit 40\n"
     ]
    }
   ],
   "source": [
    "class computer():\n",
    "    def __init__(self):\n",
    "        self.name = 'akash'\n",
    "        self.age = 37\n",
    "\n",
    "c1 = computer()\n",
    "c2 = computer()\n",
    "\n",
    "c2.name = 'mit'\n",
    "c1.age = 38\n",
    "c1.name = 'rakesh'\n",
    "c2.age = 40\n",
    "\n",
    "print(c1.name, c1.age)\n",
    "print(c2.name, c2.age)"
   ]
  },
  {
   "cell_type": "code",
   "execution_count": 2,
   "id": "a4365afd",
   "metadata": {},
   "outputs": [
    {
     "name": "stdout",
     "output_type": "stream",
     "text": [
      "rakesh 38\n",
      "mit 40\n",
      "1979443835728\n",
      "1979443837840\n"
     ]
    }
   ],
   "source": [
    "class computer():\n",
    "    def __init__(self):\n",
    "        self.name = 'akash'\n",
    "        self.age = 37\n",
    "\n",
    "c1 = computer()\n",
    "c2 = computer()\n",
    "\n",
    "c2.name = 'mit'\n",
    "c1.age = 38\n",
    "c1.name = 'rakesh'\n",
    "c2.age = 40\n",
    "\n",
    "print(c1.name, c1.age)\n",
    "print(c2.name, c2.age)\n",
    "\n",
    "print(id(c1))\n",
    "print(id(c2))"
   ]
  },
  {
   "cell_type": "code",
   "execution_count": 3,
   "id": "338ceee8",
   "metadata": {},
   "outputs": [
    {
     "name": "stdout",
     "output_type": "stream",
     "text": [
      "bmw 10\n",
      "bmw 10\n",
      "1979443834768\n",
      "1979443835728\n"
     ]
    }
   ],
   "source": [
    "#encapsulation\n",
    "class car:\n",
    "    def __init__(self):\n",
    "        self.mil = 10\n",
    "        self.com = 'bmw'\n",
    "        \n",
    "c1 = car()\n",
    "c2 = car()\n",
    "\n",
    "print(c1.com, c1.mil)\n",
    "print(c2.com, c2.mil)\n",
    "\n",
    "print(id(c1))\n",
    "print(id(c2))"
   ]
  },
  {
   "cell_type": "code",
   "execution_count": 4,
   "id": "dfd2f24d",
   "metadata": {},
   "outputs": [
    {
     "name": "stdout",
     "output_type": "stream",
     "text": [
      "Maruti 20\n",
      "bmw 8\n",
      "bmw\n"
     ]
    }
   ],
   "source": [
    "class car():\n",
    "    def __init__(self):\n",
    "        self.mil = 10\n",
    "        self.com = 'bmw'\n",
    "        \n",
    "c1 = car()\n",
    "c2 = car()\n",
    "c3 = car()\n",
    "\n",
    "c2.mil = 8\n",
    "\n",
    "c1.mil = 20\n",
    "c1.com = 'Maruti'\n",
    "\n",
    "print(c1.com, c1.mil)\n",
    "print(c2.com, c2.mil)\n",
    "\n",
    "print(c3.com)"
   ]
  },
  {
   "cell_type": "code",
   "execution_count": 5,
   "id": "b3138b94",
   "metadata": {},
   "outputs": [
    {
     "name": "stdout",
     "output_type": "stream",
     "text": [
      "bmw 10\n",
      "bmw 12\n"
     ]
    }
   ],
   "source": [
    "class car:\n",
    "    def __init__(self):\n",
    "        self.mil = 10\n",
    "        self.com = 'bmw'\n",
    "        \n",
    "c1 = car()\n",
    "c2 = car()\n",
    "\n",
    "c2.mil = 12\n",
    "\n",
    "print(c1.com, c1.mil)\n",
    "print(c2.com, c2.mil)"
   ]
  },
  {
   "cell_type": "code",
   "execution_count": 6,
   "id": "b55e571f",
   "metadata": {},
   "outputs": [
    {
     "name": "stdout",
     "output_type": "stream",
     "text": [
      "bmw 10 5\n",
      "bmw 8 5\n"
     ]
    }
   ],
   "source": [
    "class car():\n",
    "    \n",
    "    wheels = 5   \n",
    "    \n",
    "    def __init__(self):\n",
    "        self.mil = 10\n",
    "        self.com = 'bmw'\n",
    "        \n",
    "c1 = car()\n",
    "c2 = car()\n",
    "\n",
    "c2.mil = 8\n",
    "\n",
    "print(c1.com, c1.mil, c1.wheels)\n",
    "print(c2.com, c2.mil, c2.wheels)"
   ]
  },
  {
   "cell_type": "code",
   "execution_count": 7,
   "id": "78dcaf1d",
   "metadata": {},
   "outputs": [
    {
     "name": "stdout",
     "output_type": "stream",
     "text": [
      "bmw 10 6\n",
      "bmw 8 3\n"
     ]
    }
   ],
   "source": [
    "class car(): # car is class \n",
    "    \n",
    "    wheels = 5    # class variable \n",
    "    \n",
    "    def __init__(self): # special method  \n",
    "        self.mil = 10 # instance variance (mil)\n",
    "        self.com = 'bmw' # instance variable  ( com)\n",
    "        \n",
    "c1 = car() #c1 is object referece to class \n",
    "c2 = car() # c2 is obejct refere to car \n",
    "\n",
    "c1.wheels= 6    #object.class varieble \n",
    "c2.wheels = 3 #object.class variabele \n",
    "\n",
    "c2.mil = 8 # obj with instance variable\n",
    "\n",
    "print(c1.com, c1.mil, c1.wheels)\n",
    "print(c2.com, c2.mil, c2.wheels)"
   ]
  },
  {
   "cell_type": "code",
   "execution_count": 8,
   "id": "2b54afed",
   "metadata": {},
   "outputs": [
    {
     "name": "stdout",
     "output_type": "stream",
     "text": [
      "20.0\n",
      "10.0\n"
     ]
    }
   ],
   "source": [
    "#static method class method static method\n",
    "class student(): \n",
    "        \n",
    "    school = 'nit'   #school is class variable\n",
    "    \n",
    "    def __init__(self, m1, m2, m3) : # hear i pass 3 variable (m1,m2,m3 are instance variable)\n",
    "        self.m1 = m1\n",
    "        self.m2 = m2\n",
    "        self.m3 = m3\n",
    "#lets create a method to calculate average of the marks \n",
    "    def avg(self):   # ------> hear this average is INSTANCE METHOD \n",
    "        return (self.m1+self.m2+self.m3)/3\n",
    "    \n",
    "# lets create  object hear as we created s1, s2 we created 2 object & also i want to pass value in this  \n",
    "s1 = student(10, 20, 30)\n",
    "s2 = student(5, 15, 10)\n",
    "\n",
    "print(s1.avg())\n",
    "print(s2.avg())"
   ]
  },
  {
   "cell_type": "code",
   "execution_count": 9,
   "id": "0fafa873",
   "metadata": {},
   "outputs": [
    {
     "name": "stdout",
     "output_type": "stream",
     "text": [
      "20.0\n",
      "10.0\n"
     ]
    }
   ],
   "source": [
    "class student(): \n",
    "        \n",
    "    school = 'nit'\n",
    "    \n",
    "    def __init__(self, m1, m2, m3) : # hear i pass 3 variable \n",
    "        self.m1 = m1\n",
    "        self.m2 = m2\n",
    "        self.m3 = m3\n",
    "#lets create a method to calculate average of the marks \n",
    "    def avg(self):   # ------> hear this average is INSTANCE METHOD \n",
    "        return (self.m1+self.m2+self.m3)/3\n",
    "    \n",
    "    def get_m1(self):  # getter method (getter - get the value) GETTER only fetch the value -- ACCESOR\n",
    "        return self.m1\n",
    "    def set_m1(self,value): #setter method (setter - set the value) - SETTER only set the value -- MUTATOR\n",
    "        self.m1 = value\n",
    "        \n",
    "# lets create  object hear as we created s1, s2 we created 2 object & also i want to pass value in this  \n",
    "s1 = student(10, 20, 30)\n",
    "s2 = student(5, 15, 10)\n",
    "\n",
    "print(s1.avg())\n",
    "print(s2.avg())"
   ]
  },
  {
   "cell_type": "code",
   "execution_count": 10,
   "id": "3c67b460",
   "metadata": {},
   "outputs": [
    {
     "name": "stdout",
     "output_type": "stream",
     "text": [
      "nit\n",
      "10\n",
      "15\n",
      "20.0\n",
      "10.0\n",
      "nit\n",
      "nit\n"
     ]
    }
   ],
   "source": [
    "class student(): \n",
    "        \n",
    "    school = 'nit'\n",
    "    \n",
    "    def __init__(self, m1, m2, m3) : # hear i pass 3 variable \n",
    "        self.m1 = m1\n",
    "        self.m2 = m2\n",
    "        self.m3 = m3\n",
    "#lets create a method to calculate average of the marks \n",
    "    def avg(self):   # ------> hear this average is INSTANCE METHOD \n",
    "        return (self.m1+self.m2+self.m3)/3\n",
    "    \n",
    "    def info(cls): # user need to define cls - for class variable \n",
    "        return cls.school \n",
    "        \n",
    "# lets create  object hear as we created s1, s2 we created 2 object & also i want to pass value in this  \n",
    "s1 = student(10, 20, 30)\n",
    "s2 = student(5, 15, 10)\n",
    "\n",
    "print(s1.school)\n",
    "print(s1.m1)\n",
    "print(s2.m2)\n",
    "\n",
    "\n",
    "print(s1.avg()) \n",
    "print(s2.avg())\n",
    "\n",
    "print(s1.info())\n",
    "print(s2.info())"
   ]
  },
  {
   "cell_type": "code",
   "execution_count": 11,
   "id": "1b81c1d5",
   "metadata": {},
   "outputs": [
    {
     "data": {
      "text/plain": [
       "'nit'"
      ]
     },
     "execution_count": 11,
     "metadata": {},
     "output_type": "execute_result"
    }
   ],
   "source": [
    "class student(): \n",
    "        \n",
    "    school = 'nit'\n",
    "    \n",
    "    def __init__(self, m1, m2, m3) : # hear i pass 3 variable \n",
    "        self.m1 = m1\n",
    "        self.m2 = m2\n",
    "        self.m3 = m3\n",
    "#lets create a method to calculate average of the marks \n",
    "    def avg(self):   # ------> hear this average is INSTANCE METHOD \n",
    "        return (self.m1+self.m2+self.m3)/3\n",
    "    \n",
    "    @classmethod\n",
    "    def info(cls): # user need to define cls - for class variable \n",
    "        return cls.school \n",
    "        \n",
    "# lets create  object hear as we created s1, s2 we created 2 object & also i want to pass value in this  \n",
    "s1 = student(10, 20, 30)\n",
    "s2 = student(5, 15, 10)\n",
    "\n",
    "s1.info()"
   ]
  },
  {
   "cell_type": "code",
   "execution_count": 12,
   "id": "31a7d584",
   "metadata": {},
   "outputs": [
    {
     "name": "stdout",
     "output_type": "stream",
     "text": [
      "43.666666666666664 nit nit\n",
      "44.333333333333336 nit nit\n"
     ]
    }
   ],
   "source": [
    "class student: \n",
    "        \n",
    "    school = 'nit'\n",
    "    \n",
    "    def __init__(self, m1, m2, m3) : # hear i pass 3 variable \n",
    "        self.m1 = m1\n",
    "        self.m2 = m2\n",
    "        self.m3 = m3\n",
    "#lets create a method to calculate average of the marks \n",
    "    def avg(self):   # ------> hear this average is INSTANCE METHOD \n",
    "        return (self.m1+self.m2+self.m3)/3\n",
    "    \n",
    "    @classmethod\n",
    "    def info(cls):\n",
    "        return cls.school \n",
    "        \n",
    "# lets create  object hear as we created s1, s2 we created 2 object & also i want to pass value in this  \n",
    "s1 = student(34, 47, 50)\n",
    "s2 = student(89, 32, 12)\n",
    "\n",
    "print(s1.avg(), student.info(), s1.info())\n",
    "print(s2.avg(), student.info(), s2.info())"
   ]
  },
  {
   "cell_type": "code",
   "execution_count": 13,
   "id": "23a82145",
   "metadata": {},
   "outputs": [
    {
     "name": "stdout",
     "output_type": "stream",
     "text": [
      "20.0\n",
      "10.0\n",
      "nit\n",
      "this is student class\n"
     ]
    }
   ],
   "source": [
    "class student(): \n",
    "        \n",
    "    school = 'nit'\n",
    "    \n",
    "    def __init__(self, m1, m2, m3) : # hear i pass 3 variable \n",
    "        self.m1 = m1\n",
    "        self.m2 = m2\n",
    "        self.m3 = m3\n",
    "#lets create a method to calculate average of the marks \n",
    "    def avg(self):   # ------> hear this average is INSTANCE METHOD \n",
    "        return (self.m1+self.m2+self.m3)/3\n",
    "    \n",
    "    @classmethod\n",
    "    def getSchool(cls):\n",
    "        return cls.school\n",
    "    \n",
    "    @staticmethod # this student class nothing to do any class & for that also u need to pass speciasl decorator\n",
    "    def info():\n",
    "        print('this is student class') \n",
    "        \n",
    "# lets create  object hear as we created s1, s2 we created 2 object & also i want to pass value in this  \n",
    "s1 = student(10, 20, 30)\n",
    "s2 = student(5, 15, 10)\n",
    "\n",
    "print(s1.avg())\n",
    "print(s2.avg())\n",
    "\n",
    "print(student.getSchool())\n",
    "\n",
    "student.info()"
   ]
  },
  {
   "cell_type": "code",
   "execution_count": 14,
   "id": "ed5ac08b",
   "metadata": {},
   "outputs": [
    {
     "name": "stdout",
     "output_type": "stream",
     "text": [
      "25.0\n",
      "17.5\n",
      "this is student class\n"
     ]
    }
   ],
   "source": [
    "class student(): \n",
    "        \n",
    "    school = 'nit'\n",
    "    \n",
    "    def __init__(self, m1, m2, m3,m4) : # hear i pass 3 variable \n",
    "        self.m1 = m1\n",
    "        self.m2 = m2\n",
    "        self.m3 = m3\n",
    "        self.m4 = m4\n",
    "#lets create a method to calculate average of the marks \n",
    "    def avg(self):   # ------> hear this average is INSTANCE METHOD \n",
    "        return (self.m1+self.m2+self.m3+self.m4)/4\n",
    "    \n",
    "#    @classmethod\n",
    "#    def getSchool(cls):\n",
    "#        return cls.school\n",
    "    \n",
    "    @staticmethod # this student class nothing to do any class & for that also u need to pass speciasl decorator\n",
    "    def info():\n",
    "        print('this is student class') \n",
    "        \n",
    "# lets create  object hear as we created s1, s2 we created 2 object & also i want to pass value in this  \n",
    "s1 = student(10, 20, 30,40)\n",
    "s2 = student(5, 15, 10,40)\n",
    "\n",
    "print(s1.avg())\n",
    "print(s2.avg())\n",
    "\n",
    "#print(student.getSchool())\n",
    "\n",
    "student.info()"
   ]
  },
  {
   "cell_type": "code",
   "execution_count": 15,
   "id": "0b8bfef2",
   "metadata": {},
   "outputs": [
    {
     "name": "stdout",
     "output_type": "stream",
     "text": [
      "a 1\n",
      "b 2\n"
     ]
    }
   ],
   "source": [
    "class student():\n",
    "    def __init__(self, name, rollno):\n",
    "        self.name = name\n",
    "        self.rollno = rollno\n",
    "     \n",
    "s1 = student('a',1)\n",
    "s2 = student('b',2)\n",
    "\n",
    "print(s1.name, s1.rollno) \n",
    "print(s2.name, s2.rollno) "
   ]
  },
  {
   "cell_type": "code",
   "execution_count": 18,
   "id": "54301d4c",
   "metadata": {},
   "outputs": [
    {
     "name": "stdout",
     "output_type": "stream",
     "text": [
      "a 1 lenovo i5 8\n",
      "b 2 hp i7 16\n",
      "a 1 lenovo i5 8\n",
      "b 2 hp i7 16\n"
     ]
    }
   ],
   "source": [
    "class student:\n",
    "    def __init__(self, name, rollno, laptop, cpu, ram):\n",
    "        self.name = name\n",
    "        self.rollno = rollno\n",
    "        self.laptop = laptop\n",
    "        self.cpu = cpu\n",
    "        self.ram = ram\n",
    "        \n",
    "    def show(self):\n",
    "        print(s1.name, s1.rollno,s1.laptop, s1.cpu, s1.ram)\n",
    "        print(s2.name, s2.rollno,s2.laptop, s2.cpu, s2.ram)\n",
    "\n",
    "s1 = student('a',1,'lenovo','i5',8) # the moment when we assign the variable we need to assign the class as well \n",
    "s2 = student('b',2,'hp','i7',16)\n",
    "s1.show()\n",
    "s2.show()"
   ]
  },
  {
   "cell_type": "code",
   "execution_count": null,
   "id": "31cef725",
   "metadata": {},
   "outputs": [],
   "source": [
    "class student:\n",
    "    def __init__(self, name, rollno):\n",
    "        self.name = name\n",
    "        self.rollno = rollno\n",
    "        \n",
    "        self.lap = self.LAPTOP()\n",
    "        \n",
    "    def show(self):\n",
    "        print(self.name, self.rollno)\n",
    "        \n",
    "    class LAPTOP:\n",
    "        def __init__(self):\n",
    "            self.brand = 'avita'\n",
    "            self.cpu = 'i5'\n",
    "            self.ram = 8\n",
    "     \n",
    "s1 = student('a',1) # the moment when we assign the variable we need to assign the class as well \n",
    "s2 = student('b',2)\n",
    "\n",
    "s1.show()\n",
    "s2.show()\n",
    "\n",
    "lap1 = s1.lap.cpu\n",
    "lap2 = s2.lap.ram\n",
    "lap3 = s2.lap.brand\n",
    "\n",
    "print(lap1)\n",
    "print(lap2)\n",
    "print(lap3)"
   ]
  },
  {
   "cell_type": "code",
   "execution_count": 19,
   "id": "5e4dabd4",
   "metadata": {},
   "outputs": [
    {
     "name": "stdout",
     "output_type": "stream",
     "text": [
      "feature1 is hi\n",
      "feature2 is hi\n"
     ]
    }
   ],
   "source": [
    "#iheritance\n",
    "class A() : \n",
    "    \n",
    "    def feature1(self):         # lets take example class A has 2 feature1 & feature 2\n",
    "        print('feature1 is hi')\n",
    "        \n",
    "    def feature2(self):\n",
    "        print('feature2 is hi')\n",
    "\n",
    "    \n",
    "     \n",
    "# the way you access the feature is object \n",
    "\n",
    "a1 = A()  #a1 is the object & A is constructor & using a1 we can call the feature1 & feature 2\n",
    "\n",
    "a1.feature1()\n",
    "a1.feature2()    "
   ]
  },
  {
   "cell_type": "code",
   "execution_count": 20,
   "id": "000a4286",
   "metadata": {},
   "outputs": [],
   "source": [
    "class A(): \n",
    "    def feature1(self):         \n",
    "        print('feature1 is hi')\n",
    "    def feature2(self):\n",
    "        print('feature2 is hi')\n",
    "        \n",
    "class B():\n",
    "    def feature3(self):        \n",
    "        print('feature3 is hallo')\n",
    "    def feature4(self):\n",
    "        print('feature4 is hallo')\n",
    "\n",
    "a1 = A()  #a1 is the object & A is constructor & using a1 we can call the feature1 & feature 2\n",
    "\n",
    "b1 = B()  #a1 is the object & A is constructor & using a1 we can call the feature1 & feature 2\n",
    "\n"
   ]
  },
  {
   "cell_type": "code",
   "execution_count": 21,
   "id": "095d4307",
   "metadata": {},
   "outputs": [
    {
     "name": "stdout",
     "output_type": "stream",
     "text": [
      "feature1 is hi\n",
      "feature2 is hi\n"
     ]
    }
   ],
   "source": [
    "class A(): \n",
    "    def feature1(self):         \n",
    "        print('feature1 is hi')\n",
    "    def feature2(self):\n",
    "        print('feature2 is hi')\n",
    "        \n",
    "class B(A):\n",
    "    def feature3(self):        \n",
    "        print('feature3 is hallo')\n",
    "    def feature4(self):\n",
    "        print('feature4 is hallo')\n",
    "\n",
    "a1 = A()  #a1 is the object & A is constructor & using a1 we can call the feature1 & feature 2\n",
    "a1.feature1()\n",
    "a1.feature2()\n",
    "\n",
    "b1 = B()  #a1 is the object & A is constructor & using a1 we can call the feature1 & feature 2\n"
   ]
  },
  {
   "cell_type": "code",
   "execution_count": 22,
   "id": "09a02962",
   "metadata": {},
   "outputs": [],
   "source": [
    "\n",
    "class A(): \n",
    "    def feature1(self):        \n",
    "        print('feature1 is hi')\n",
    "    def feature2(self):\n",
    "        print('feature2 is hi')\n",
    "\n",
    "class B(A):\n",
    "    def feature3(self):         # lets take example class A has 2 feature1 & feature 2\n",
    "        print('feature3 is hallo')\n",
    "    def feature4(self):\n",
    "        print('feature4 is hallo')\n",
    "\n",
    "class C(B):\n",
    "    def feature5(self):\n",
    "        print('feature5 is how are you')\n",
    "        \n",
    "# the way you access the feature is object \n",
    "\n",
    "a1 = A()  #a1 is the object & A is constructor & using a1 we can call the feature1 & feature 2\n",
    "b1 = B()  # INHERITENCE CUZ THE CLASS B IS INHERIT THE CLASS \n",
    "c1 = C()  # class C is inherit the class A\n"
   ]
  },
  {
   "cell_type": "code",
   "execution_count": 23,
   "id": "7b0df93b",
   "metadata": {},
   "outputs": [],
   "source": [
    "\n",
    "class A(): \n",
    "    def feature1(self):        \n",
    "        print('feature1 is hi')\n",
    "    def feature2(self):\n",
    "        print('feature2 is hi')\n",
    "\n",
    "class B():\n",
    "    def feature3(self):         # lets take example class A has 2 feature1 & feature 2\n",
    "        print('feature3 is hallo')\n",
    "    def feature4(self):\n",
    "        print('feature4 is hallo')\n",
    "\n",
    "class C(A, B):\n",
    "    def feature5(self):\n",
    "        print('feature5 is how are you')\n",
    "        \n",
    "# the way you access the feature is object \n",
    "\n",
    "a1 = A()  #a1 is the object & A is constructor & using a1 we can call the feature1 & feature 2\n",
    "b1 = B()  # INHERITENCE CUZ THE CLASS B IS INHERIT THE CLASS \n",
    "c1 = C()  # class C is inherit the class A\n",
    "\n"
   ]
  },
  {
   "cell_type": "code",
   "execution_count": 24,
   "id": "c780623d",
   "metadata": {},
   "outputs": [
    {
     "name": "stdout",
     "output_type": "stream",
     "text": [
      "in the init\n"
     ]
    }
   ],
   "source": [
    "class A(): #lets create a class hear it should be employee class or student class & lets create 2 methods\n",
    "    def __init__(self):\n",
    "        print('in the init')\n",
    "    def feature1(self):         # lets take example class A has 2 feature1 & feature 2\n",
    "        print('feature1 is hi')\n",
    "    def feature2(self):\n",
    "        print('feature2 is hi')\n",
    "\n",
    "class B():\n",
    "    def feature3(self):         # lets take example class A has 2 feature1 & feature 2\n",
    "        print('feature3 is hallo')\n",
    "    def feature4(self):\n",
    "        print('feature4 is hallo')\n",
    "\n",
    "a1 = A()"
   ]
  },
  {
   "cell_type": "code",
   "execution_count": 25,
   "id": "bf3efbe6",
   "metadata": {},
   "outputs": [
    {
     "name": "stdout",
     "output_type": "stream",
     "text": [
      "in the init\n",
      "in the init\n"
     ]
    }
   ],
   "source": [
    "class A(): #lets create a class hear it should be employee class or student class & lets create 2 methods\n",
    "    def __init__(self):\n",
    "        print('in the init')\n",
    "    def feature1(self):         # lets take example class A has 2 feature1 & feature 2\n",
    "        print('feature1 is hi')\n",
    "    def feature2(self):\n",
    "        print('feature2 is hi')\n",
    "\n",
    "class B(A):\n",
    "    def feature3(self):         # lets take example class A has 2 feature1 & feature 2\n",
    "        print('feature3 is hallo')\n",
    "    def feature4(self):\n",
    "        print('feature4 is hallo')\n",
    "\n",
    "a1 = A()\n",
    "b1 = B()"
   ]
  },
  {
   "cell_type": "code",
   "execution_count": 26,
   "id": "0d931e76",
   "metadata": {},
   "outputs": [
    {
     "name": "stdout",
     "output_type": "stream",
     "text": [
      "in the init\n",
      "in the B init\n"
     ]
    }
   ],
   "source": [
    "class A(): #lets create a class hear it should be employee class or student class & lets create 2 methods\n",
    "    def __init__(self):\n",
    "        print('in the init')\n",
    "    def feature1(self):         # lets take example class A has 2 feature1 & feature 2\n",
    "        print('feature1 is hi')\n",
    "    def feature2(self):\n",
    "        print('feature2 is hi')\n",
    "\n",
    "class B():\n",
    "    def __init__(self):\n",
    "        print('in the B init')\n",
    "    def feature3(self):         # lets take example class A has 2 feature1 & feature 2\n",
    "        print('feature3 is hallo')\n",
    "    def feature4(self):\n",
    "        print('feature4 is hallo')\n",
    "\n",
    "a1 = A()\n",
    "b1 = B()"
   ]
  },
  {
   "cell_type": "code",
   "execution_count": 27,
   "id": "200f1957",
   "metadata": {},
   "outputs": [
    {
     "name": "stdout",
     "output_type": "stream",
     "text": [
      "in the init\n"
     ]
    }
   ],
   "source": [
    "class A(): #lets create a class hear it should be employee class or student class & lets create 2 methods\n",
    "    def __init__(self):\n",
    "        print('in the init')\n",
    "    def feature1(self):         # lets take example class A has 2 feature1 & feature 2\n",
    "        print('feature1 is hi')\n",
    "    def feature2(self):\n",
    "        print('feature2 is hi')\n",
    "\n",
    "class B(A):\n",
    "    def feature3(self):         # lets take example class A has 2 feature1 & feature 2\n",
    "        print('feature3 is hallo')\n",
    "    def feature4(self):\n",
    "        print('feature4 is hallo')\n",
    "\n",
    "b1 = B()"
   ]
  },
  {
   "cell_type": "code",
   "execution_count": 28,
   "id": "ce87d289",
   "metadata": {},
   "outputs": [
    {
     "name": "stdout",
     "output_type": "stream",
     "text": [
      "in the B init\n"
     ]
    }
   ],
   "source": [
    "class A : #lets create a class hear it should be employee class or student class & lets create 2 methods\n",
    "    def __init__(self):\n",
    "        print('in the A init')\n",
    "    def feature1(self):         # lets take example class A has 2 feature1 & feature 2\n",
    "        print('feature1 is hi')\n",
    "    def feature2(self):\n",
    "        print('feature2 is hi')\n",
    "\n",
    "class B():\n",
    "    def __init__(self):\n",
    "        print('in the B init')\n",
    "    def feature3(self):         # lets take example class A has 2 feature1 & feature 2\n",
    "        print('feature3 is hallo')\n",
    "    def feature4(self):\n",
    "        print('feature4 is hallo')\n",
    "        \n",
    "b1 = B() "
   ]
  },
  {
   "cell_type": "code",
   "execution_count": 29,
   "id": "d4be88e2",
   "metadata": {},
   "outputs": [
    {
     "name": "stdout",
     "output_type": "stream",
     "text": [
      "in the A init\n",
      "in the B init\n"
     ]
    }
   ],
   "source": [
    "class A : #lets create a class hear it should be employee class or student class & lets create 2 methods\n",
    "    def __init__(self):\n",
    "        print('in the A init')\n",
    "    def feature1(self):         # lets take example class A has 2 feature1 & feature 2\n",
    "        print('feature1 is hi')\n",
    "    def feature2(self):\n",
    "        print('feature2 is hi')\n",
    "\n",
    "class B(A):\n",
    "    def __init__(self):\n",
    "        super().__init__()\n",
    "        print('in the B init')\n",
    "    def feature3(self):         # lets take example class A has 2 feature1 & feature 2\n",
    "        print('feature3 is hallo')\n",
    "    def feature4(self):\n",
    "        print('feature4 is hallo')\n",
    "        \n",
    "b1 = B() "
   ]
  },
  {
   "cell_type": "code",
   "execution_count": 30,
   "id": "10e3bba0",
   "metadata": {},
   "outputs": [
    {
     "name": "stdout",
     "output_type": "stream",
     "text": [
      "in the A init\n",
      "in the C init\n"
     ]
    }
   ],
   "source": [
    "class A() : #lets create a class hear it should be employee class or student class & lets create 2 methods\n",
    "    def __init__(self):\n",
    "        print('in the A init')\n",
    "    def feature1(self):         # lets take example class A has 2 feature1 & feature 2\n",
    "        print('feature 1-A is hi')\n",
    "    def feature2(self):\n",
    "        print('feature2 is hi')\n",
    "\n",
    "class B():\n",
    "    def __init__(self):\n",
    "        print('in the B init')\n",
    "    def feature3(self):         # lets take example class A has 2 feature1 & feature 2\n",
    "        print('feature 3-B is hallo')\n",
    "    def feature4(self):\n",
    "        print('feature4 is hallo')\n",
    "        \n",
    "class C(A,B):\n",
    "    def __init__(self):\n",
    "        super().__init__()\n",
    "        print('in the C init')\n",
    "                \n",
    "c1 = C()"
   ]
  },
  {
   "cell_type": "code",
   "execution_count": 34,
   "id": "235f7bd3",
   "metadata": {},
   "outputs": [
    {
     "name": "stdout",
     "output_type": "stream",
     "text": [
      "in the A init\n",
      "in the C init\n"
     ]
    }
   ],
   "source": [
    "class A : #lets create a class hear it should be employee class or student class & lets create 2 methods\n",
    "    def __init__(self):\n",
    "        print('in the A init')\n",
    "    def feature1(self):         # lets take example class A has 2 feature1 & feature 2\n",
    "        print('feature 1-A is hi')\n",
    "    def feature2(self):\n",
    "        print('feature2 is hi')\n",
    "\n",
    "class B():\n",
    "    def __init__(self):\n",
    "        print('in the B init')\n",
    "    def feature3(self):         # lets take example class A has 2 feature1 & feature 2\n",
    "        print('feature 3-B is hallo')\n",
    "    def feature4(self):\n",
    "        print('feature4 is hallo')\n",
    "        \n",
    "\n",
    "class C():\n",
    "    def __init__(self):\n",
    "        print('in the B init')\n",
    "    def feature3(self):         # lets take example class A has 2 feature1 & feature 2\n",
    "        print('feature 3-B is hallo')\n",
    "    def feature4(self):\n",
    "        print('feature4 is hallo')\n",
    "        \n",
    "class D(A,B):\n",
    "    def __init__(self):\n",
    "        super().__init__()\n",
    "        print('in the C init')\n",
    "    def feat(self):\n",
    "        super().feature2()\n",
    "                \n",
    "d1 = D()\n"
   ]
  },
  {
   "cell_type": "code",
   "execution_count": 33,
   "id": "02c7b968",
   "metadata": {},
   "outputs": [
    {
     "name": "stdout",
     "output_type": "stream",
     "text": [
      "in the A init\n",
      "in the C init\n"
     ]
    }
   ],
   "source": [
    "class A : #lets create a class hear it should be employee class or student class & lets create 2 methods\n",
    "    def __init__(self):\n",
    "        print('in the A init')\n",
    "    def feature1(self):         # lets take example class A has 2 feature1 & feature 2\n",
    "        print('feature 1-A is hi')\n",
    "    def feature2(self):\n",
    "        print('feature2 is hi')\n",
    "\n",
    "class B():\n",
    "    def __init__(self):\n",
    "        print('in the B init')\n",
    "    def feature3(self):         # lets take example class A has 2 feature1 & feature 2\n",
    "        print('feature 3-B is hallo')\n",
    "    def feature4(self):\n",
    "        print('feature4 is hallo')\n",
    "        \n",
    "class C(A,B):\n",
    "    def __init__(self):\n",
    "        super().__init__()\n",
    "        print('in the C init')\n",
    "    def feat(self):\n",
    "        super().feature2()\n",
    "                \n",
    "c1 = C()"
   ]
  },
  {
   "cell_type": "code",
   "execution_count": 35,
   "id": "ebb5a032",
   "metadata": {},
   "outputs": [
    {
     "name": "stdout",
     "output_type": "stream",
     "text": [
      "i am duck & i can swim\n",
      "quack quack\n"
     ]
    }
   ],
   "source": [
    "#duck typing\n",
    "\n",
    "class duck():\n",
    "    def swim(self):\n",
    "        print('i am duck & i can swim')\n",
    "    def speaks(self):\n",
    "        print('quack quack')\n",
    "\n",
    "class dog():\n",
    "    def swim(self):\n",
    "        print('i am dog & i can swim')\n",
    "    def speaks(self):\n",
    "        print('woof woof')\n",
    "\n",
    "\n",
    "def display(duck): # we define outside of the class\n",
    "    duck.swim()\n",
    "    duck.speaks()\n",
    "    #print('informatation')\n",
    "\n",
    "d = duck()\n",
    "display(d)       \n"
   ]
  },
  {
   "cell_type": "code",
   "execution_count": 36,
   "id": "79d7c1d1",
   "metadata": {},
   "outputs": [
    {
     "name": "stdout",
     "output_type": "stream",
     "text": [
      "i am dog & i can swim\n",
      "woof woof\n"
     ]
    }
   ],
   "source": [
    "class duck:\n",
    "    def swim(self):\n",
    "        print('i am duck & i can swim')\n",
    "    def speaks(self):\n",
    "        print('quack quack')\n",
    "\n",
    "class dog:\n",
    "    def swim(self):\n",
    "        print('i am dog & i can swim')\n",
    "    def speaks(self):\n",
    "        print('woof woof')\n",
    "\n",
    "\n",
    "def display(duck): # we define outside of the class\n",
    "    duck.swim()\n",
    "    duck.speaks()\n",
    "    #print('informatation')\n",
    "\n",
    "d = duck()\n",
    "dg = dog()\n",
    "\n",
    "display(dg)  "
   ]
  },
  {
   "cell_type": "code",
   "execution_count": 37,
   "id": "00e2f98c",
   "metadata": {},
   "outputs": [
    {
     "ename": "AttributeError",
     "evalue": "'person' object has no attribute 'swim'",
     "output_type": "error",
     "traceback": [
      "\u001b[31m---------------------------------------------------------------------------\u001b[39m",
      "\u001b[31mAttributeError\u001b[39m                            Traceback (most recent call last)",
      "\u001b[36mCell\u001b[39m\u001b[36m \u001b[39m\u001b[32mIn[37]\u001b[39m\u001b[32m, line 26\u001b[39m\n\u001b[32m     23\u001b[39m dg = dog()\n\u001b[32m     24\u001b[39m p = person()\n\u001b[32m---> \u001b[39m\u001b[32m26\u001b[39m \u001b[43mdisplay\u001b[49m\u001b[43m(\u001b[49m\u001b[43mp\u001b[49m\u001b[43m)\u001b[49m   \n",
      "\u001b[36mCell\u001b[39m\u001b[36m \u001b[39m\u001b[32mIn[37]\u001b[39m\u001b[32m, line 18\u001b[39m, in \u001b[36mdisplay\u001b[39m\u001b[34m(obj)\u001b[39m\n\u001b[32m     17\u001b[39m \u001b[38;5;28;01mdef\u001b[39;00m\u001b[38;5;250m \u001b[39m\u001b[34mdisplay\u001b[39m(obj): \u001b[38;5;66;03m# we define outside of the class\u001b[39;00m\n\u001b[32m---> \u001b[39m\u001b[32m18\u001b[39m     \u001b[43mobj\u001b[49m\u001b[43m.\u001b[49m\u001b[43mswim\u001b[49m()\n\u001b[32m     19\u001b[39m     obj.speaks()\n\u001b[32m     20\u001b[39m     obj.person()\n",
      "\u001b[31mAttributeError\u001b[39m: 'person' object has no attribute 'swim'"
     ]
    }
   ],
   "source": [
    "class duck:\n",
    "    def swim(self):\n",
    "        print('i am duck & i can swim')\n",
    "    def speaks(self):\n",
    "        print('quack quack')\n",
    "\n",
    "class dog:\n",
    "    def swim(self):\n",
    "        print('i am dog & i can swim')\n",
    "    def speaks(self):\n",
    "        print('woof woof')\n",
    "\n",
    "class person:\n",
    "    def speaks(self):\n",
    "        print('attend more interview to get placed')\n",
    "        \n",
    "def display(obj): # we define outside of the class\n",
    "    obj.swim()\n",
    "    obj.speaks()\n",
    "    obj.person()\n",
    "    \n",
    "d = duck()\n",
    "dg = dog()\n",
    "p = person()\n",
    "\n",
    "display(p)   "
   ]
  },
  {
   "cell_type": "code",
   "execution_count": 38,
   "id": "3a9c6d4e",
   "metadata": {},
   "outputs": [
    {
     "name": "stdout",
     "output_type": "stream",
     "text": [
      "need to learn for swimming\n",
      "attend more interview to get placed\n"
     ]
    }
   ],
   "source": [
    "class duck:\n",
    "    def swim(self):\n",
    "        print('i am duck & i can swim')\n",
    "    def speaks(self):\n",
    "        print('quack quack')\n",
    "\n",
    "class dog:\n",
    "    def swim(self):\n",
    "        print('i am dog & i can swim')\n",
    "    def speaks(self):\n",
    "        print('woof woof')\n",
    "\n",
    "class person:\n",
    "    def speaks(self):\n",
    "        print('attend more interview to get placed')\n",
    "    def swim(self):\n",
    "        print('need to learn for swimming')\n",
    "         \n",
    "def display(obj): # we define outside of the class\n",
    "    obj.swim()\n",
    "    obj.speaks()\n",
    "    #obj.person()\n",
    "    \n",
    "d = duck()\n",
    "dg = dog()\n",
    "p = person()\n",
    "\n",
    "display(p)   "
   ]
  },
  {
   "cell_type": "code",
   "execution_count": null,
   "id": "72c8e933",
   "metadata": {},
   "outputs": [],
   "source": []
  },
  {
   "cell_type": "code",
   "execution_count": null,
   "id": "be184e52",
   "metadata": {},
   "outputs": [],
   "source": []
  },
  {
   "cell_type": "code",
   "execution_count": null,
   "id": "e6eb3ae9",
   "metadata": {},
   "outputs": [],
   "source": []
  },
  {
   "cell_type": "code",
   "execution_count": null,
   "id": "3f3c5909",
   "metadata": {},
   "outputs": [],
   "source": []
  }
 ],
 "metadata": {
  "kernelspec": {
   "display_name": "py311env",
   "language": "python",
   "name": "python3"
  },
  "language_info": {
   "codemirror_mode": {
    "name": "ipython",
    "version": 3
   },
   "file_extension": ".py",
   "mimetype": "text/x-python",
   "name": "python",
   "nbconvert_exporter": "python",
   "pygments_lexer": "ipython3",
   "version": "3.11.13"
  }
 },
 "nbformat": 4,
 "nbformat_minor": 5
}
