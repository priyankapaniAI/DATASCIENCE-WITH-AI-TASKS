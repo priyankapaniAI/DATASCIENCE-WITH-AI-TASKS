{
 "cells": [
  {
   "cell_type": "code",
   "execution_count": 1,
   "id": "01ea576b",
   "metadata": {},
   "outputs": [
    {
     "data": {
      "text/plain": [
       "5"
      ]
     },
     "execution_count": 1,
     "metadata": {},
     "output_type": "execute_result"
    }
   ],
   "source": [
    "a = 5\n",
    "a"
   ]
  },
  {
   "cell_type": "code",
   "execution_count": 2,
   "id": "0d6658ae",
   "metadata": {},
   "outputs": [
    {
     "data": {
      "text/plain": [
       "float"
      ]
     },
     "execution_count": 2,
     "metadata": {},
     "output_type": "execute_result"
    }
   ],
   "source": [
    "a = 5.5\n",
    "type(a)"
   ]
  },
  {
   "cell_type": "code",
   "execution_count": 3,
   "id": "ae1e9e29",
   "metadata": {},
   "outputs": [
    {
     "name": "stdout",
     "output_type": "stream",
     "text": [
      "<class 'float'>\n"
     ]
    }
   ],
   "source": [
    "a = 5.5\n",
    "print(type(a))"
   ]
  },
  {
   "cell_type": "code",
   "execution_count": 4,
   "id": "3fc74cce",
   "metadata": {},
   "outputs": [
    {
     "name": "stdout",
     "output_type": "stream",
     "text": [
      "<class 'list'>\n"
     ]
    }
   ],
   "source": [
    "b = [2,3]\n",
    "print(type(b))"
   ]
  },
  {
   "cell_type": "code",
   "execution_count": 5,
   "id": "57cbe5cd",
   "metadata": {},
   "outputs": [],
   "source": [
    "class laptop(): # class name \n",
    "    def config(): #method name \n",
    "        print('i5', 16) \n",
    "        print('i9', 32)\n",
    "\n",
    "lap = laptop() #lap is object "
   ]
  },
  {
   "cell_type": "code",
   "execution_count": null,
   "id": "4ff02375",
   "metadata": {},
   "outputs": [
    {
     "name": "stdout",
     "output_type": "stream",
     "text": [
      "i5 16\n",
      "i9 32\n"
     ]
    }
   ],
   "source": [
    "class laptop(): # class name \n",
    "    def config(): #method name \n",
    "        print('i5', 16)\n",
    "        print('i9', 32)\n",
    "\n",
    "lap = laptop() #lap is object \n",
    "\n",
    "laptop.config()"
   ]
  },
  {
   "cell_type": "code",
   "execution_count": 7,
   "id": "41e9df04",
   "metadata": {},
   "outputs": [
    {
     "name": "stdout",
     "output_type": "stream",
     "text": [
      "i5 16\n",
      "i9 32\n"
     ]
    }
   ],
   "source": [
    "class laptop(): # class name \n",
    "    def config(): #method name \n",
    "        print('i5', 16)  \n",
    "        print('i9', 32)\n",
    "\n",
    "\n",
    "laptop.config()"
   ]
  },
  {
   "cell_type": "code",
   "execution_count": 8,
   "id": "07943617",
   "metadata": {},
   "outputs": [
    {
     "ename": "TypeError",
     "evalue": "laptop.config() takes 0 positional arguments but 1 was given",
     "output_type": "error",
     "traceback": [
      "\u001b[31m---------------------------------------------------------------------------\u001b[39m",
      "\u001b[31mTypeError\u001b[39m                                 Traceback (most recent call last)",
      "\u001b[36mCell\u001b[39m\u001b[36m \u001b[39m\u001b[32mIn[8]\u001b[39m\u001b[32m, line 8\u001b[39m\n\u001b[32m      4\u001b[39m         \u001b[38;5;28mprint\u001b[39m(\u001b[33m'\u001b[39m\u001b[33mi9\u001b[39m\u001b[33m'\u001b[39m, \u001b[32m32\u001b[39m)\n\u001b[32m      6\u001b[39m lap = laptop() \u001b[38;5;66;03m#lap is object \u001b[39;00m\n\u001b[32m----> \u001b[39m\u001b[32m8\u001b[39m \u001b[43mlap\u001b[49m\u001b[43m.\u001b[49m\u001b[43mconfig\u001b[49m\u001b[43m(\u001b[49m\u001b[43m)\u001b[49m\n",
      "\u001b[31mTypeError\u001b[39m: laptop.config() takes 0 positional arguments but 1 was given"
     ]
    }
   ],
   "source": [
    "class laptop(): # class name \n",
    "    def config(): #method name \n",
    "        print('i5', 16) # print statment \n",
    "        print('i9', 32)\n",
    "\n",
    "lap = laptop() #lap is object \n",
    "\n",
    "lap.config()"
   ]
  },
  {
   "cell_type": "code",
   "execution_count": 9,
   "id": "5134ba3c",
   "metadata": {},
   "outputs": [
    {
     "name": "stdout",
     "output_type": "stream",
     "text": [
      "i5 16\n",
      "i9 32\n"
     ]
    }
   ],
   "source": [
    "class laptop(): # class name \n",
    "    def config(self): #method name \n",
    "        print('i5', 16)\n",
    "        print('i9', 32)\n",
    "\n",
    "lap = laptop() #lap is object \n",
    "\n",
    "lap.config()"
   ]
  },
  {
   "cell_type": "code",
   "execution_count": 10,
   "id": "bd149144",
   "metadata": {},
   "outputs": [
    {
     "name": "stdout",
     "output_type": "stream",
     "text": [
      "i5 16\n",
      "i9 32\n",
      "i5 16\n",
      "i9 32\n",
      "i5 16\n",
      "i9 32\n"
     ]
    }
   ],
   "source": [
    "class laptop(): # class name \n",
    "    def config(self): #method name \n",
    "        print('i5', 16)\n",
    "        print('i9', 32)\n",
    "\n",
    "lap1 = laptop() #lap is object \n",
    "lap2 = laptop()\n",
    "lap3 = laptop()\n",
    "lap4 = laptop()\n",
    "\n",
    "lap1.config()\n",
    "lap2.config()\n",
    "lap3.config()"
   ]
  },
  {
   "cell_type": "code",
   "execution_count": 11,
   "id": "dc4c1296",
   "metadata": {},
   "outputs": [
    {
     "name": "stdout",
     "output_type": "stream",
     "text": [
      "<class 'int'>\n",
      "<class '__main__.computer'>\n"
     ]
    }
   ],
   "source": [
    "class computer():        # computer is class\n",
    "    def config():      # config is method\n",
    "        print('i5','8gb')\n",
    "    \n",
    "a = 8\n",
    "print(type(a))\n",
    "\n",
    "com1 = computer() #com1 is the user define object of the computer class but if you check above a is the object for string data type & in java we called this as constructor\n",
    "print(type(com1)) "
   ]
  },
  {
   "cell_type": "code",
   "execution_count": 12,
   "id": "a143067a",
   "metadata": {},
   "outputs": [
    {
     "data": {
      "text/plain": [
       "'__main__'"
      ]
     },
     "execution_count": 12,
     "metadata": {},
     "output_type": "execute_result"
    }
   ],
   "source": [
    "__name__"
   ]
  },
  {
   "cell_type": "code",
   "execution_count": 13,
   "id": "9d58eb34",
   "metadata": {},
   "outputs": [
    {
     "name": "stdout",
     "output_type": "stream",
     "text": [
      "i5 8gb\n"
     ]
    }
   ],
   "source": [
    "class computer:        \n",
    "    def config():      # self is the object\n",
    "        print('i5', '8gb')\n",
    "\n",
    "com1 = computer()\n",
    "\n",
    "computer.config() #hear com1 act as parameter going to the self"
   ]
  },
  {
   "cell_type": "code",
   "execution_count": 14,
   "id": "3530b775",
   "metadata": {},
   "outputs": [
    {
     "ename": "TypeError",
     "evalue": "computer.config() takes 0 positional arguments but 1 was given",
     "output_type": "error",
     "traceback": [
      "\u001b[31m---------------------------------------------------------------------------\u001b[39m",
      "\u001b[31mTypeError\u001b[39m                                 Traceback (most recent call last)",
      "\u001b[36mCell\u001b[39m\u001b[36m \u001b[39m\u001b[32mIn[14]\u001b[39m\u001b[32m, line 7\u001b[39m\n\u001b[32m      3\u001b[39m         \u001b[38;5;28mprint\u001b[39m(\u001b[33m'\u001b[39m\u001b[33mi5\u001b[39m\u001b[33m'\u001b[39m, \u001b[33m'\u001b[39m\u001b[33m8gb\u001b[39m\u001b[33m'\u001b[39m)\n\u001b[32m      5\u001b[39m com1 = computer()\n\u001b[32m----> \u001b[39m\u001b[32m7\u001b[39m \u001b[43mcomputer\u001b[49m\u001b[43m.\u001b[49m\u001b[43mconfig\u001b[49m\u001b[43m(\u001b[49m\u001b[43mcom1\u001b[49m\u001b[43m)\u001b[49m \u001b[38;5;66;03m#hear com1 act as parameter going to the self\u001b[39;00m\n",
      "\u001b[31mTypeError\u001b[39m: computer.config() takes 0 positional arguments but 1 was given"
     ]
    }
   ],
   "source": [
    "class computer():         \n",
    "    def config():      # self is the object\n",
    "        print('i5', '8gb')\n",
    "\n",
    "com1 = computer()\n",
    "\n",
    "computer.config(com1) #hear com1 act as parameter going to the self"
   ]
  },
  {
   "cell_type": "code",
   "execution_count": 15,
   "id": "85c979ee",
   "metadata": {},
   "outputs": [
    {
     "name": "stdout",
     "output_type": "stream",
     "text": [
      "i5 8gb\n"
     ]
    }
   ],
   "source": [
    "class computer:        \n",
    "    def config(self):      # self is the object\n",
    "        print('i5', '8gb')\n",
    "\n",
    "com1 = computer()\n",
    "\n",
    "com1.config()"
   ]
  },
  {
   "cell_type": "code",
   "execution_count": 17,
   "id": "fd6d31c7",
   "metadata": {},
   "outputs": [],
   "source": [
    "#SELF"
   ]
  },
  {
   "cell_type": "code",
   "execution_count": 16,
   "id": "f29870a3",
   "metadata": {},
   "outputs": [
    {
     "name": "stdout",
     "output_type": "stream",
     "text": [
      "i7 16gb\n"
     ]
    }
   ],
   "source": [
    "class computer():\n",
    "    def __init__(self):\n",
    "        print('i7', '16gb')\n",
    "       \n",
    "c1 = computer() \n"
   ]
  },
  {
   "cell_type": "code",
   "execution_count": 18,
   "id": "0622d436",
   "metadata": {},
   "outputs": [
    {
     "name": "stdout",
     "output_type": "stream",
     "text": [
      "i7 16gb\n",
      "i7 16gb\n",
      "i7 16gb\n"
     ]
    }
   ],
   "source": [
    "class computer():\n",
    "    def __init__(self):\n",
    "        print('i7', '16gb')\n",
    "       \n",
    "c1 = computer() \n",
    "c3 = computer()\n",
    "c3 = computer()\n"
   ]
  },
  {
   "cell_type": "code",
   "execution_count": 19,
   "id": "01d61e05",
   "metadata": {},
   "outputs": [
    {
     "name": "stdout",
     "output_type": "stream",
     "text": [
      "i7 16gb\n",
      "i7 16gb\n"
     ]
    }
   ],
   "source": [
    "class computer():\n",
    "    def config(self):\n",
    "        print('i7', '16gb')\n",
    "       \n",
    "c1 = computer() \n",
    "c2 = computer()\n",
    "c3 = computer()\n",
    "\n",
    "c1.config()\n",
    "c2.config()"
   ]
  },
  {
   "cell_type": "code",
   "execution_count": 20,
   "id": "7deb3e77",
   "metadata": {},
   "outputs": [
    {
     "name": "stdout",
     "output_type": "stream",
     "text": [
      "in init\n"
     ]
    }
   ],
   "source": [
    "class computer():        \n",
    "    \n",
    "    def __init__(self):\n",
    "        print('in init')\n",
    "\n",
    "com1 = computer()\n"
   ]
  },
  {
   "cell_type": "code",
   "execution_count": 21,
   "id": "6fa21349",
   "metadata": {},
   "outputs": [
    {
     "name": "stdout",
     "output_type": "stream",
     "text": [
      "in init\n",
      "i5 8gb\n"
     ]
    }
   ],
   "source": [
    "class computer():        \n",
    "    \n",
    "    def __init__(self):\n",
    "        print('in init')\n",
    "    \n",
    "    def config(self):     \n",
    "        print('i5', '8gb')\n",
    "\n",
    "com1 = computer()\n",
    "\n",
    "com1.config() \n"
   ]
  },
  {
   "cell_type": "code",
   "execution_count": 22,
   "id": "7eca0c56",
   "metadata": {},
   "outputs": [
    {
     "name": "stdout",
     "output_type": "stream",
     "text": [
      "in init\n",
      "in init\n",
      "i5 8gb\n"
     ]
    }
   ],
   "source": [
    "class computer():        \n",
    "    \n",
    "    def __init__(self):\n",
    "        print('in init')\n",
    "    \n",
    "    def config(self):     \n",
    "        print('i5', '8gb')\n",
    "\n",
    "com1 = computer()\n",
    "\n",
    "com1.__init__()\n",
    "com1.config() \n"
   ]
  },
  {
   "cell_type": "code",
   "execution_count": 23,
   "id": "a2cf2da8",
   "metadata": {},
   "outputs": [
    {
     "name": "stdout",
     "output_type": "stream",
     "text": [
      "in init\n",
      "in init\n",
      "in init\n",
      "i5 8gb\n",
      "i7 32gb\n"
     ]
    }
   ],
   "source": [
    "class computer:        \n",
    "    \n",
    "    def config(self):     \n",
    "        print('i5', '8gb')\n",
    "\n",
    "    def config2(self):\n",
    "        print('i7', '32gb')\n",
    "\n",
    "    def __init__(self):\n",
    "        print('in init') \n",
    "\n",
    "com1 = computer()\n",
    "com2 = computer()\n",
    "com3 = computer()\n",
    "\n",
    "com1.config() \n",
    "com1.config2()"
   ]
  }
 ],
 "metadata": {
  "kernelspec": {
   "display_name": "py311env",
   "language": "python",
   "name": "python3"
  },
  "language_info": {
   "codemirror_mode": {
    "name": "ipython",
    "version": 3
   },
   "file_extension": ".py",
   "mimetype": "text/x-python",
   "name": "python",
   "nbconvert_exporter": "python",
   "pygments_lexer": "ipython3",
   "version": "3.11.13"
  }
 },
 "nbformat": 4,
 "nbformat_minor": 5
}
