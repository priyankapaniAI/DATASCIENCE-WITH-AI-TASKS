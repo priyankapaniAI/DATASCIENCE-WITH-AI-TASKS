{
 "cells": [
  {
   "cell_type": "code",
   "execution_count": 2,
   "id": "4de2a84b-af9a-46d5-8e99-11039af3342b",
   "metadata": {},
   "outputs": [
    {
     "data": {
      "text/plain": [
       "1"
      ]
     },
     "execution_count": 2,
     "metadata": {},
     "output_type": "execute_result"
    }
   ],
   "source": [
    "spam = 1\n",
    "spam"
   ]
  },
  {
   "cell_type": "code",
   "execution_count": 3,
   "id": "699d85b6-4bb8-4186-846d-1904473436c7",
   "metadata": {},
   "outputs": [
    {
     "data": {
      "text/plain": [
       "'#this is not a comment'"
      ]
     },
     "execution_count": 3,
     "metadata": {},
     "output_type": "execute_result"
    }
   ],
   "source": [
    "text = '#this is not a comment'\n",
    "text"
   ]
  },
  {
   "cell_type": "code",
   "execution_count": 4,
   "id": "a15b78d8-200e-4937-b18b-6c177e6a244f",
   "metadata": {},
   "outputs": [
    {
     "data": {
      "text/plain": [
       "4"
      ]
     },
     "execution_count": 4,
     "metadata": {},
     "output_type": "execute_result"
    }
   ],
   "source": [
    "2 + 2"
   ]
  },
  {
   "cell_type": "code",
   "execution_count": 5,
   "id": "35d94a90-0e0b-49cf-88ca-d0c743344f6c",
   "metadata": {},
   "outputs": [
    {
     "data": {
      "text/plain": [
       "20"
      ]
     },
     "execution_count": 5,
     "metadata": {},
     "output_type": "execute_result"
    }
   ],
   "source": [
    "50 - 5 * 6"
   ]
  },
  {
   "cell_type": "code",
   "execution_count": 6,
   "id": "bb8fbe88-567f-4554-902f-27472cec8c43",
   "metadata": {},
   "outputs": [
    {
     "data": {
      "text/plain": [
       "5.0"
      ]
     },
     "execution_count": 6,
     "metadata": {},
     "output_type": "execute_result"
    }
   ],
   "source": [
    "(50 - 5*6)/4"
   ]
  },
  {
   "cell_type": "code",
   "execution_count": 7,
   "id": "a88dbdfe-fcee-4f7d-9eb8-652bb26fcaa3",
   "metadata": {},
   "outputs": [
    {
     "data": {
      "text/plain": [
       "1.6"
      ]
     },
     "execution_count": 7,
     "metadata": {},
     "output_type": "execute_result"
    }
   ],
   "source": [
    "8 /5"
   ]
  },
  {
   "cell_type": "code",
   "execution_count": 8,
   "id": "171527b6-aa61-432c-bf74-a742ed8b1df1",
   "metadata": {},
   "outputs": [
    {
     "data": {
      "text/plain": [
       "5.666666666666667"
      ]
     },
     "execution_count": 8,
     "metadata": {},
     "output_type": "execute_result"
    }
   ],
   "source": [
    "17/3"
   ]
  },
  {
   "cell_type": "code",
   "execution_count": 9,
   "id": "49314086-fd31-43e1-bdea-71b28ad6cbaf",
   "metadata": {},
   "outputs": [
    {
     "data": {
      "text/plain": [
       "5"
      ]
     },
     "execution_count": 9,
     "metadata": {},
     "output_type": "execute_result"
    }
   ],
   "source": [
    "17//3"
   ]
  },
  {
   "cell_type": "code",
   "execution_count": 10,
   "id": "35447b36-0313-42d5-b43e-75aa1bf86c4e",
   "metadata": {},
   "outputs": [
    {
     "data": {
      "text/plain": [
       "2"
      ]
     },
     "execution_count": 10,
     "metadata": {},
     "output_type": "execute_result"
    }
   ],
   "source": [
    "17%3"
   ]
  },
  {
   "cell_type": "code",
   "execution_count": 11,
   "id": "9715cc20-1562-4a85-b4c7-c7462f3bb2cf",
   "metadata": {},
   "outputs": [
    {
     "data": {
      "text/plain": [
       "17"
      ]
     },
     "execution_count": 11,
     "metadata": {},
     "output_type": "execute_result"
    }
   ],
   "source": [
    "5*3+2"
   ]
  },
  {
   "cell_type": "code",
   "execution_count": 12,
   "id": "f8b14b7c-385d-46db-a0d1-506dd995f0c2",
   "metadata": {},
   "outputs": [
    {
     "data": {
      "text/plain": [
       "128"
      ]
     },
     "execution_count": 12,
     "metadata": {},
     "output_type": "execute_result"
    }
   ],
   "source": [
    "2**7"
   ]
  },
  {
   "cell_type": "code",
   "execution_count": 13,
   "id": "3fb18b7d-2dc6-428f-b800-7c4eb7cc88fd",
   "metadata": {},
   "outputs": [
    {
     "data": {
      "text/plain": [
       "900"
      ]
     },
     "execution_count": 13,
     "metadata": {},
     "output_type": "execute_result"
    }
   ],
   "source": [
    "width = 20\n",
    "height = 5*9\n",
    "width * height"
   ]
  },
  {
   "cell_type": "code",
   "execution_count": 14,
   "id": "f908310b-2d08-49b1-8120-454573d25915",
   "metadata": {},
   "outputs": [
    {
     "data": {
      "text/plain": [
       "14.0"
      ]
     },
     "execution_count": 14,
     "metadata": {},
     "output_type": "execute_result"
    }
   ],
   "source": [
    "4*3.75-1"
   ]
  },
  {
   "cell_type": "code",
   "execution_count": 15,
   "id": "1959a82a-d12e-406a-84c0-9a2e3d20b37d",
   "metadata": {},
   "outputs": [
    {
     "data": {
      "text/plain": [
       "12.5625"
      ]
     },
     "execution_count": 15,
     "metadata": {},
     "output_type": "execute_result"
    }
   ],
   "source": [
    "tax = 12.5/100\n",
    "price = 100.50\n",
    "price*tax"
   ]
  },
  {
   "cell_type": "code",
   "execution_count": 21,
   "id": "daf0f476-8ba0-40e7-8e74-876fa02ec9e7",
   "metadata": {},
   "outputs": [
    {
     "data": {
      "text/plain": [
       "100.5"
      ]
     },
     "execution_count": 21,
     "metadata": {},
     "output_type": "execute_result"
    }
   ],
   "source": [
    "price"
   ]
  },
  {
   "cell_type": "code",
   "execution_count": 22,
   "id": "eb162d37-c3ae-415a-9fdf-785129080648",
   "metadata": {},
   "outputs": [
    {
     "data": {
      "text/plain": [
       "12.5625"
      ]
     },
     "execution_count": 22,
     "metadata": {},
     "output_type": "execute_result"
    }
   ],
   "source": [
    "price*tax"
   ]
  },
  {
   "cell_type": "code",
   "execution_count": 27,
   "id": "6f117ec3-9eb5-495e-8f8c-e7caa4866928",
   "metadata": {},
   "outputs": [
    {
     "data": {
      "text/plain": [
       "100.5"
      ]
     },
     "execution_count": 27,
     "metadata": {},
     "output_type": "execute_result"
    }
   ],
   "source": [
    "round(price,2)"
   ]
  },
  {
   "cell_type": "code",
   "execution_count": 28,
   "id": "80195be0-850e-4ef6-9a62-af54ea4ef8fd",
   "metadata": {},
   "outputs": [
    {
     "data": {
      "text/plain": [
       "12.56"
      ]
     },
     "execution_count": 28,
     "metadata": {},
     "output_type": "execute_result"
    }
   ],
   "source": [
    "round(price*tax,2)"
   ]
  },
  {
   "cell_type": "code",
   "execution_count": 29,
   "id": "6f662007-f1b5-46d9-b25c-0abac35adb79",
   "metadata": {},
   "outputs": [
    {
     "data": {
      "text/plain": [
       "'spam eggs'"
      ]
     },
     "execution_count": 29,
     "metadata": {},
     "output_type": "execute_result"
    }
   ],
   "source": [
    "'spam eggs'"
   ]
  },
  {
   "cell_type": "code",
   "execution_count": 30,
   "id": "37337b4b-d522-4ea6-b607-d51e33d67ee8",
   "metadata": {},
   "outputs": [
    {
     "data": {
      "text/plain": [
       "'paris rabbit got your back!!yay!'"
      ]
     },
     "execution_count": 30,
     "metadata": {},
     "output_type": "execute_result"
    }
   ],
   "source": [
    "\"paris rabbit got your back!!yay!\" "
   ]
  },
  {
   "cell_type": "code",
   "execution_count": 31,
   "id": "b642b952-dfac-4ae2-8e85-0c3396450d9c",
   "metadata": {},
   "outputs": [
    {
     "data": {
      "text/plain": [
       "'1975'"
      ]
     },
     "execution_count": 31,
     "metadata": {},
     "output_type": "execute_result"
    }
   ],
   "source": [
    "'1975'"
   ]
  },
  {
   "cell_type": "code",
   "execution_count": 36,
   "id": "52a0787c-bf21-4b7b-b8c5-e0fb2874393f",
   "metadata": {},
   "outputs": [
    {
     "data": {
      "text/plain": [
       "\"doesn't\""
      ]
     },
     "execution_count": 36,
     "metadata": {},
     "output_type": "execute_result"
    }
   ],
   "source": [
    "'doesn\\'t'"
   ]
  },
  {
   "cell_type": "code",
   "execution_count": 37,
   "id": "8fc184b7-1471-46de-868f-ac53b18fa22d",
   "metadata": {},
   "outputs": [
    {
     "data": {
      "text/plain": [
       "\"doesn't\""
      ]
     },
     "execution_count": 37,
     "metadata": {},
     "output_type": "execute_result"
    }
   ],
   "source": [
    "\"doesn\\'t\""
   ]
  },
  {
   "cell_type": "code",
   "execution_count": 41,
   "id": "01a09ee2-1079-4d8a-99de-f1967f8006b1",
   "metadata": {},
   "outputs": [
    {
     "data": {
      "text/plain": [
       "\"yes,'they said.\""
      ]
     },
     "execution_count": 41,
     "metadata": {},
     "output_type": "execute_result"
    }
   ],
   "source": [
    "\"yes,\\'they said.\""
   ]
  },
  {
   "cell_type": "code",
   "execution_count": 42,
   "id": "390937f8-c0f5-4e52-928d-3ce4593e6fa4",
   "metadata": {},
   "outputs": [
    {
     "data": {
      "text/plain": [
       "'yes,\\they said.'"
      ]
     },
     "execution_count": 42,
     "metadata": {},
     "output_type": "execute_result"
    }
   ],
   "source": [
    "\"yes,\\they said.\""
   ]
  },
  {
   "cell_type": "code",
   "execution_count": 44,
   "id": "0a12b517-ed18-4fb6-b4f1-7e6e0a297877",
   "metadata": {},
   "outputs": [
    {
     "data": {
      "text/plain": [
       "'yes,\"they said.'"
      ]
     },
     "execution_count": 44,
     "metadata": {},
     "output_type": "execute_result"
    }
   ],
   "source": [
    "\"yes,\\\"they said.\""
   ]
  },
  {
   "cell_type": "code",
   "execution_count": 45,
   "id": "8f28eb4f-9e06-4756-a9c9-feb53456ce82",
   "metadata": {},
   "outputs": [
    {
     "data": {
      "text/plain": [
       "'first line. \\nsecond line.'"
      ]
     },
     "execution_count": 45,
     "metadata": {},
     "output_type": "execute_result"
    }
   ],
   "source": [
    "\"first line. \\nsecond line.\""
   ]
  },
  {
   "cell_type": "code",
   "execution_count": 46,
   "id": "accce2a4-6135-44e8-82d4-80dc8276f745",
   "metadata": {},
   "outputs": [
    {
     "name": "stdout",
     "output_type": "stream",
     "text": [
      "how are you?\n",
      "I am fine\n"
     ]
    }
   ],
   "source": [
    "s = \"how are you?\\nI am fine\"\n",
    "print(s)"
   ]
  },
  {
   "cell_type": "code",
   "execution_count": 49,
   "id": "9136f972-7f91-4439-a2f6-e86be639929a",
   "metadata": {},
   "outputs": [
    {
     "name": "stdout",
     "output_type": "stream",
     "text": [
      "C:\\some\n",
      "apples\n"
     ]
    },
    {
     "name": "stderr",
     "output_type": "stream",
     "text": [
      "<>:1: SyntaxWarning: invalid escape sequence '\\s'\n",
      "<>:1: SyntaxWarning: invalid escape sequence '\\s'\n",
      "C:\\Users\\panip\\AppData\\Local\\Temp\\ipykernel_21304\\3218339175.py:1: SyntaxWarning: invalid escape sequence '\\s'\n",
      "  print(\"C:\\some\\napples\")\n"
     ]
    }
   ],
   "source": [
    "print(\"C:\\some\\napples\")"
   ]
  },
  {
   "cell_type": "code",
   "execution_count": 48,
   "id": "6ae15529-c57b-4d6d-bf08-a8373765dedf",
   "metadata": {},
   "outputs": [
    {
     "name": "stdout",
     "output_type": "stream",
     "text": [
      "C:\\some\\name\n"
     ]
    }
   ],
   "source": [
    "print(r\"C:\\some\\name\")"
   ]
  },
  {
   "cell_type": "code",
   "execution_count": 53,
   "id": "aed42eef-8a7e-4cc3-8775-1efbbe57a32a",
   "metadata": {},
   "outputs": [
    {
     "data": {
      "text/plain": [
       "'unununium'"
      ]
     },
     "execution_count": 53,
     "metadata": {},
     "output_type": "execute_result"
    }
   ],
   "source": [
    "3*'un'+'ium'"
   ]
  },
  {
   "cell_type": "code",
   "execution_count": 54,
   "id": "86d4f64c-5d5e-4236-93e2-2983903dece8",
   "metadata": {},
   "outputs": [
    {
     "data": {
      "text/plain": [
       "'universeuniverseuniverse'"
      ]
     },
     "execution_count": 54,
     "metadata": {},
     "output_type": "execute_result"
    }
   ],
   "source": [
    "3*('un'+'iverse')"
   ]
  },
  {
   "cell_type": "code",
   "execution_count": 55,
   "id": "3a8e0f16-d670-43ed-b804-8deb97430fa3",
   "metadata": {},
   "outputs": [
    {
     "data": {
      "text/plain": [
       "'thon'"
      ]
     },
     "execution_count": 55,
     "metadata": {},
     "output_type": "execute_result"
    }
   ],
   "source": [
    "prefix = 'py'\n",
    "prefix = 'thon'\n",
    "prefix"
   ]
  },
  {
   "cell_type": "code",
   "execution_count": 56,
   "id": "4b99564a-9383-40d2-bc79-ca9a46e27f71",
   "metadata": {},
   "outputs": [
    {
     "data": {
      "text/plain": [
       "'python'"
      ]
     },
     "execution_count": 56,
     "metadata": {},
     "output_type": "execute_result"
    }
   ],
   "source": [
    "'py'+ prefix"
   ]
  },
  {
   "cell_type": "code",
   "execution_count": 57,
   "id": "94ca5996-0b80-4c00-9fc2-ba962cbcb911",
   "metadata": {},
   "outputs": [
    {
     "data": {
      "text/plain": [
       "'p'"
      ]
     },
     "execution_count": 57,
     "metadata": {},
     "output_type": "execute_result"
    }
   ],
   "source": [
    "word = 'python'\n",
    "word[0]"
   ]
  },
  {
   "cell_type": "code",
   "execution_count": 58,
   "id": "f700050c-1005-484f-b523-051f8db7a849",
   "metadata": {},
   "outputs": [
    {
     "data": {
      "text/plain": [
       "'n'"
      ]
     },
     "execution_count": 58,
     "metadata": {},
     "output_type": "execute_result"
    }
   ],
   "source": [
    "word[5]"
   ]
  },
  {
   "cell_type": "code",
   "execution_count": 59,
   "id": "a373b0c1-2c21-4b51-9f55-7ae67c5d20ac",
   "metadata": {},
   "outputs": [
    {
     "data": {
      "text/plain": [
       "'n'"
      ]
     },
     "execution_count": 59,
     "metadata": {},
     "output_type": "execute_result"
    }
   ],
   "source": [
    "word[-1]"
   ]
  },
  {
   "cell_type": "code",
   "execution_count": 66,
   "id": "d8a5ee9c-b6ae-4f70-b2f9-2e3ef56b5317",
   "metadata": {},
   "outputs": [
    {
     "data": {
      "text/plain": [
       "'y'"
      ]
     },
     "execution_count": 66,
     "metadata": {},
     "output_type": "execute_result"
    }
   ],
   "source": [
    "word[-5]"
   ]
  },
  {
   "cell_type": "code",
   "execution_count": 61,
   "id": "ece9d985-bf5f-4c28-a478-baf318c1607e",
   "metadata": {},
   "outputs": [
    {
     "data": {
      "text/plain": [
       "'p'"
      ]
     },
     "execution_count": 61,
     "metadata": {},
     "output_type": "execute_result"
    }
   ],
   "source": [
    "word[-6]"
   ]
  },
  {
   "cell_type": "code",
   "execution_count": 62,
   "id": "b949061c-7254-47af-96b8-5c16bf98a8dc",
   "metadata": {},
   "outputs": [
    {
     "data": {
      "text/plain": [
       "'py'"
      ]
     },
     "execution_count": 62,
     "metadata": {},
     "output_type": "execute_result"
    }
   ],
   "source": [
    "word[:2]"
   ]
  },
  {
   "cell_type": "code",
   "execution_count": 63,
   "id": "570a16d1-ace3-4c59-a61d-2ac96a48c281",
   "metadata": {},
   "outputs": [
    {
     "data": {
      "text/plain": [
       "'thon'"
      ]
     },
     "execution_count": 63,
     "metadata": {},
     "output_type": "execute_result"
    }
   ],
   "source": [
    "word[2:]"
   ]
  },
  {
   "cell_type": "code",
   "execution_count": 64,
   "id": "6d626171-0c8b-4846-8f84-af060d4d8649",
   "metadata": {},
   "outputs": [
    {
     "data": {
      "text/plain": [
       "'th'"
      ]
     },
     "execution_count": 64,
     "metadata": {},
     "output_type": "execute_result"
    }
   ],
   "source": [
    "word[2:4]"
   ]
  },
  {
   "cell_type": "code",
   "execution_count": 65,
   "id": "9acf53aa-fb06-4e02-a688-c5b8f49669cb",
   "metadata": {},
   "outputs": [
    {
     "data": {
      "text/plain": [
       "6"
      ]
     },
     "execution_count": 65,
     "metadata": {},
     "output_type": "execute_result"
    }
   ],
   "source": [
    "len(word)"
   ]
  },
  {
   "cell_type": "code",
   "execution_count": 67,
   "id": "a6091821-27cd-49c1-ba19-d0bb3b8d64d5",
   "metadata": {},
   "outputs": [
    {
     "data": {
      "text/plain": [
       "'python'"
      ]
     },
     "execution_count": 67,
     "metadata": {},
     "output_type": "execute_result"
    }
   ],
   "source": [
    "word[:4]+ word[4:]"
   ]
  },
  {
   "cell_type": "code",
   "execution_count": 68,
   "id": "5cf592ba-2b8b-4d91-937d-a9da1ac68010",
   "metadata": {},
   "outputs": [
    {
     "data": {
      "text/plain": [
       "'ciencewithAI'"
      ]
     },
     "execution_count": 68,
     "metadata": {},
     "output_type": "execute_result"
    }
   ],
   "source": [
    "w = \"datasciencewithAI\"\n",
    "w[5:]"
   ]
  },
  {
   "cell_type": "code",
   "execution_count": null,
   "id": "a50c3c4c-f952-4b4a-8098-e96442399541",
   "metadata": {},
   "outputs": [],
   "source": []
  }
 ],
 "metadata": {
  "kernelspec": {
   "display_name": "Python [conda env:base] *",
   "language": "python",
   "name": "conda-base-py"
  },
  "language_info": {
   "codemirror_mode": {
    "name": "ipython",
    "version": 3
   },
   "file_extension": ".py",
   "mimetype": "text/x-python",
   "name": "python",
   "nbconvert_exporter": "python",
   "pygments_lexer": "ipython3",
   "version": "3.12.7"
  }
 },
 "nbformat": 4,
 "nbformat_minor": 5
}
