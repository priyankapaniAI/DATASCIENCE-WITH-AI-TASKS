{
 "cells": [
  {
   "cell_type": "code",
   "execution_count": 1,
   "id": "f62ba4bd-5986-46a7-952b-667e6e15a568",
   "metadata": {},
   "outputs": [
    {
     "name": "stdout",
     "output_type": "stream",
     "text": [
      "25\n"
     ]
    }
   ],
   "source": [
    "age = 25\n",
    "print(age)"
   ]
  },
  {
   "cell_type": "code",
   "execution_count": 2,
   "id": "aec27604-9d9a-4368-ad86-d88634a0c930",
   "metadata": {},
   "outputs": [
    {
     "name": "stdout",
     "output_type": "stream",
     "text": [
      "priyanka\n"
     ]
    }
   ],
   "source": [
    "name = 'priyanka'\n",
    "print(name)"
   ]
  },
  {
   "cell_type": "code",
   "execution_count": 3,
   "id": "541ba42a-5b7d-4823-9fac-309a23e9e142",
   "metadata": {},
   "outputs": [
    {
     "name": "stdout",
     "output_type": "stream",
     "text": [
      "True\n"
     ]
    }
   ],
   "source": [
    "is_active = True\n",
    "print(is_active)"
   ]
  },
  {
   "cell_type": "code",
   "execution_count": 4,
   "id": "0a68162c-387f-432a-a288-d3d0f604f7d4",
   "metadata": {},
   "outputs": [
    {
     "name": "stdout",
     "output_type": "stream",
     "text": [
      "11\n"
     ]
    }
   ],
   "source": [
    "a =5\n",
    "b =6\n",
    "print(a+b)"
   ]
  },
  {
   "cell_type": "code",
   "execution_count": 5,
   "id": "f8ab4fc9-cc18-4ae6-97c5-f6de24591332",
   "metadata": {},
   "outputs": [
    {
     "name": "stdout",
     "output_type": "stream",
     "text": [
      "priyanka  pani\n"
     ]
    }
   ],
   "source": [
    "first_name = 'priyanka'\n",
    "last_name = 'pani'\n",
    "full_name = first_name+'  '+last_name\n",
    "print(full_name)"
   ]
  },
  {
   "cell_type": "code",
   "execution_count": 6,
   "id": "7112a34a-d044-4419-ae1e-22c6b60cdc26",
   "metadata": {},
   "outputs": [
    {
     "name": "stdout",
     "output_type": "stream",
     "text": [
      "350\n"
     ]
    }
   ],
   "source": [
    "length= 10\n",
    "width= 35\n",
    "area=length*width\n",
    "print(area)"
   ]
  },
  {
   "cell_type": "code",
   "execution_count": 8,
   "id": "bca88dd6-9158-4d59-b5c3-759a8f9df143",
   "metadata": {},
   "outputs": [
    {
     "data": {
      "text/plain": [
       "int"
      ]
     },
     "execution_count": 8,
     "metadata": {},
     "output_type": "execute_result"
    }
   ],
   "source": [
    "type(area)"
   ]
  },
  {
   "cell_type": "code",
   "execution_count": 9,
   "id": "017237f8-0a98-40ba-9a13-82c40189fd41",
   "metadata": {},
   "outputs": [
    {
     "data": {
      "text/plain": [
       "float"
      ]
     },
     "execution_count": 9,
     "metadata": {},
     "output_type": "execute_result"
    }
   ],
   "source": [
    "f = 12.345\n",
    "type(f)"
   ]
  },
  {
   "cell_type": "code",
   "execution_count": 10,
   "id": "6691a31e-b61c-49fa-beae-73994cd4341f",
   "metadata": {},
   "outputs": [
    {
     "data": {
      "text/plain": [
       "100.0"
      ]
     },
     "execution_count": 10,
     "metadata": {},
     "output_type": "execute_result"
    }
   ],
   "source": [
    "f=1e2\n",
    "f"
   ]
  },
  {
   "cell_type": "code",
   "execution_count": 11,
   "id": "16629d86-8d66-450f-a6f2-2973a4d6f8c0",
   "metadata": {},
   "outputs": [
    {
     "data": {
      "text/plain": [
       "1.0"
      ]
     },
     "execution_count": 11,
     "metadata": {},
     "output_type": "execute_result"
    }
   ],
   "source": [
    "f=1e0\n",
    "f"
   ]
  },
  {
   "cell_type": "code",
   "execution_count": 12,
   "id": "3ef940ef-2694-4139-85f0-1618a9f44293",
   "metadata": {},
   "outputs": [
    {
     "data": {
      "text/plain": [
       "1000.0"
      ]
     },
     "execution_count": 12,
     "metadata": {},
     "output_type": "execute_result"
    }
   ],
   "source": [
    "f=1e3\n",
    "f"
   ]
  },
  {
   "cell_type": "code",
   "execution_count": 13,
   "id": "6c80574f-98c0-43e5-9d35-611188dae178",
   "metadata": {},
   "outputs": [
    {
     "data": {
      "text/plain": [
       "str"
      ]
     },
     "execution_count": 13,
     "metadata": {},
     "output_type": "execute_result"
    }
   ],
   "source": [
    "s='flower is beautiful'\n",
    "type(s)"
   ]
  },
  {
   "cell_type": "code",
   "execution_count": 14,
   "id": "281d85cb-73c3-45b8-870e-6fceb6d46358",
   "metadata": {},
   "outputs": [
    {
     "name": "stdout",
     "output_type": "stream",
     "text": [
      "(15+30j)\n"
     ]
    }
   ],
   "source": [
    "c=5+10j\n",
    "d=10+20j\n",
    "sum=c+d\n",
    "print(sum)"
   ]
  },
  {
   "cell_type": "code",
   "execution_count": 15,
   "id": "8dc3eff8-08c9-42ce-8c33-4c2b3e01cf42",
   "metadata": {},
   "outputs": [
    {
     "data": {
      "text/plain": [
       "complex"
      ]
     },
     "execution_count": 15,
     "metadata": {},
     "output_type": "execute_result"
    }
   ],
   "source": [
    "type(sum)"
   ]
  },
  {
   "cell_type": "code",
   "execution_count": 16,
   "id": "9bb603df-9be7-4070-883d-0ed71d6cbce6",
   "metadata": {},
   "outputs": [
    {
     "data": {
      "text/plain": [
       "5.0"
      ]
     },
     "execution_count": 16,
     "metadata": {},
     "output_type": "execute_result"
    }
   ],
   "source": [
    "c.real"
   ]
  },
  {
   "cell_type": "code",
   "execution_count": 17,
   "id": "bf6a71ee-d34b-4881-bf47-4c36c8b5e08d",
   "metadata": {},
   "outputs": [
    {
     "data": {
      "text/plain": [
       "20.0"
      ]
     },
     "execution_count": 17,
     "metadata": {},
     "output_type": "execute_result"
    }
   ],
   "source": [
    "d.imag"
   ]
  },
  {
   "cell_type": "code",
   "execution_count": 18,
   "id": "f71c7a23-e20c-428a-9925-7c622732285c",
   "metadata": {},
   "outputs": [
    {
     "name": "stdout",
     "output_type": "stream",
     "text": [
      "(5+10j)\n"
     ]
    }
   ],
   "source": [
    "print(d-c)"
   ]
  },
  {
   "cell_type": "code",
   "execution_count": 19,
   "id": "a8af8ac6-23c3-4e7a-b8c0-07762ad886ff",
   "metadata": {},
   "outputs": [
    {
     "data": {
      "text/plain": [
       "bool"
      ]
     },
     "execution_count": 19,
     "metadata": {},
     "output_type": "execute_result"
    }
   ],
   "source": [
    "a=True\n",
    "type(a)"
   ]
  },
  {
   "cell_type": "code",
   "execution_count": 20,
   "id": "ecd9e4df-7447-4315-b467-1e399e9b8432",
   "metadata": {},
   "outputs": [
    {
     "name": "stdout",
     "output_type": "stream",
     "text": [
      "2\n"
     ]
    }
   ],
   "source": [
    "print(a+a)"
   ]
  },
  {
   "cell_type": "code",
   "execution_count": 21,
   "id": "341b75e0-b020-46c7-b76d-e602eb8aa3b3",
   "metadata": {},
   "outputs": [
    {
     "name": "stdout",
     "output_type": "stream",
     "text": [
      "5 10\n"
     ]
    }
   ],
   "source": [
    "a=5\n",
    "b=10\n",
    "print(a,b)"
   ]
  },
  {
   "cell_type": "code",
   "execution_count": 22,
   "id": "c6edc9f8-fde8-4147-8ec0-d248a2350b72",
   "metadata": {},
   "outputs": [
    {
     "name": "stdout",
     "output_type": "stream",
     "text": [
      "10 20 python is a programming language\n"
     ]
    }
   ],
   "source": [
    "print(10,20,\"python is a programming language\")"
   ]
  },
  {
   "cell_type": "code",
   "execution_count": 26,
   "id": "d86c8b0d-0fc5-4c35-a1e9-d48cb2b606b7",
   "metadata": {},
   "outputs": [
    {
     "name": "stdout",
     "output_type": "stream",
     "text": [
      "40\n",
      "20\n",
      "3\n"
     ]
    }
   ],
   "source": [
    "num1=30\n",
    "num2=10\n",
    "print(num1+num2)\n",
    "print(num1-num2)\n",
    "print(num1//num2)\n"
   ]
  },
  {
   "cell_type": "code",
   "execution_count": 28,
   "id": "11a47238-d4a1-47e4-9db2-99ff33d8bd2b",
   "metadata": {},
   "outputs": [
    {
     "name": "stdout",
     "output_type": "stream",
     "text": [
      "the addition of 30 and 40 is 70\n"
     ]
    }
   ],
   "source": [
    "a=30\n",
    "b=40\n",
    "add=a+b\n",
    "print(\"the addition of\",a,\"and\",b,\"is\",add)"
   ]
  },
  {
   "cell_type": "code",
   "execution_count": 30,
   "id": "c19db89e-a1c8-44f5-9ac6-f664962564e5",
   "metadata": {},
   "outputs": [
    {
     "name": "stdout",
     "output_type": "stream",
     "text": [
      "HELLO EVERYONE!!\n",
      "My name is priyanka working as AI engineer living in Bengaluru .\n"
     ]
    }
   ],
   "source": [
    "name= 'priyanka'\n",
    "job= 'AI engineer'\n",
    "city= 'Bengaluru'\n",
    "print('HELLO EVERYONE!!\\nMy name is',name,'working as',job,'living in',city,'.')"
   ]
  },
  {
   "cell_type": "markdown",
   "id": "3aab72b0-dae1-4bbb-9825-232185e46977",
   "metadata": {},
   "source": [
    "#PRINT FORMAT METHOD"
   ]
  },
  {
   "cell_type": "code",
   "execution_count": 31,
   "id": "12ba81d2-2a42-4f2e-b7a7-8701f3691acb",
   "metadata": {},
   "outputs": [
    {
     "name": "stdout",
     "output_type": "stream",
     "text": [
      "the addition of 13 and 15 is 28\n"
     ]
    }
   ],
   "source": [
    "num1=13\n",
    "num2=15\n",
    "add=num1+num2\n",
    "print('the addition of {} and {} is {}'.format(num1,num2,add))"
   ]
  },
  {
   "cell_type": "code",
   "execution_count": 34,
   "id": "414f7da4-7aa8-44e0-8a82-b97f5fe9a567",
   "metadata": {},
   "outputs": [
    {
     "name": "stdout",
     "output_type": "stream",
     "text": [
      "while going to market,I saw shilpa.\n",
      "We had coffee together.\n",
      "Then I met lucky in the shopping mall.\n",
      "At last while returning back to home I met sonia\n"
     ]
    }
   ],
   "source": [
    "f1=\"sonia\"\n",
    "f2=\"lucky\"\n",
    "f3=\"shilpa\"\n",
    "print(\"while going to market,I saw {}.\\nWe had coffee together.\\nThen I met {} in the shopping mall.\\nAt last while returning back to home I met {}\".format(f3,f2,f1))"
   ]
  },
  {
   "cell_type": "code",
   "execution_count": 35,
   "id": "75f78a79-1dfe-4445-a9a3-20775c053e6a",
   "metadata": {},
   "outputs": [
    {
     "name": "stdout",
     "output_type": "stream",
     "text": [
      "the average of 22,30 and 40 is 30.666666666666668 or 30.67\n"
     ]
    }
   ],
   "source": [
    "n1=22\n",
    "n2=30\n",
    "n3=40\n",
    "avg=(n1+n2+n3)/3\n",
    "avg1=round((avg),2)\n",
    "print('the average of {},{} and {} is {} or {}'.format(n1,n2,n3,avg,avg1))"
   ]
  },
  {
   "cell_type": "markdown",
   "id": "43b62592-f4dd-4b51-8b63-a9dcbcdfba0b",
   "metadata": {},
   "source": [
    "#F STRING METHOD"
   ]
  },
  {
   "cell_type": "code",
   "execution_count": 36,
   "id": "1c27c05c-4e60-4746-8f82-a4f9c009347e",
   "metadata": {},
   "outputs": [
    {
     "name": "stdout",
     "output_type": "stream",
     "text": [
      "the addition of 27 and 37 is 64.\n"
     ]
    }
   ],
   "source": [
    "num1=27\n",
    "num2=37\n",
    "add=num1+num2\n",
    "print(f'the addition of {num1} and {num2} is {add}.')"
   ]
  },
  {
   "cell_type": "code",
   "execution_count": 37,
   "id": "a474f2d6-0b6a-4041-bef0-9cac62ada273",
   "metadata": {},
   "outputs": [
    {
     "name": "stdout",
     "output_type": "stream",
     "text": [
      "hello!! My name is priyanka and my age is 30 and am staying in bengaluru\n"
     ]
    }
   ],
   "source": [
    "name= 'priyanka'\n",
    "city='bengaluru'\n",
    "age=30\n",
    "print(f\"hello!! My name is {name} and my age is {age} and am staying in {city}\")"
   ]
  },
  {
   "cell_type": "markdown",
   "id": "9c23655d-3f4a-49ee-beb9-b657eb41a844",
   "metadata": {},
   "source": [
    "#LET'S  COMBINE ALL"
   ]
  },
  {
   "cell_type": "code",
   "execution_count": 38,
   "id": "10a439dd-5a39-4fbd-b064-7c8288a84e99",
   "metadata": {},
   "outputs": [
    {
     "name": "stdout",
     "output_type": "stream",
     "text": [
      "the sum of 10 and 20 is 30\n",
      "the sum of 10 and 20 is 30\n",
      "the sum of 10 and 20 is 30\n"
     ]
    }
   ],
   "source": [
    "n1=10\n",
    "n2=20\n",
    "add=n1+n2\n",
    "print(\"the sum of\",n1,\"and\",n2,\"is\",add)\n",
    "print('the sum of {} and {} is {}'.format(n1,n2,add))\n",
    "print(f'the sum of {n1} and {n2} is {add}')"
   ]
  },
  {
   "cell_type": "markdown",
   "id": "f368817c-a49c-46e0-b7b6-c7b927bcf80a",
   "metadata": {},
   "source": [
    "#END STATEMENT"
   ]
  },
  {
   "cell_type": "code",
   "execution_count": 39,
   "id": "038412bc-2c54-4906-a195-90eee3184674",
   "metadata": {},
   "outputs": [
    {
     "name": "stdout",
     "output_type": "stream",
     "text": [
      "hello world\n",
      "good morning\n"
     ]
    }
   ],
   "source": [
    "print('hello world')\n",
    "print('good morning')"
   ]
  },
  {
   "cell_type": "code",
   "execution_count": 43,
   "id": "3cb75b00-3a21-4282-8e7d-168b9230b4ba",
   "metadata": {},
   "outputs": [
    {
     "name": "stdout",
     "output_type": "stream",
     "text": [
      "hello world!!!good morning\n"
     ]
    }
   ],
   "source": [
    "print(\"hello world\",end=\"!!!\")\n",
    "print('good morning')"
   ]
  },
  {
   "cell_type": "markdown",
   "id": "a5f82eda-d3ea-4d6d-affd-4e8e2a044399",
   "metadata": {},
   "source": [
    "#SEPARATOR"
   ]
  },
  {
   "cell_type": "code",
   "execution_count": 44,
   "id": "7c07ad7e-e273-4c68-9b8a-5b10e03037af",
   "metadata": {},
   "outputs": [
    {
     "name": "stdout",
     "output_type": "stream",
     "text": [
      "hi  how are you  I am fine\n"
     ]
    }
   ],
   "source": [
    "print(\"hi\",\"how are you\",\"I am fine\",sep=\"  \")"
   ]
  },
  {
   "cell_type": "code",
   "execution_count": 45,
   "id": "565a18a1-1094-40c9-853b-deab93a84a14",
   "metadata": {},
   "outputs": [
    {
     "name": "stdout",
     "output_type": "stream",
     "text": [
      "hi\n",
      "how are you\n",
      "I am fine\n"
     ]
    }
   ],
   "source": [
    "print(\"hi\",\"how are you\",\"I am fine\",sep=\"\\n\")"
   ]
  },
  {
   "cell_type": "code",
   "execution_count": 46,
   "id": "ecd3f273-db2d-45e7-b7e0-ae4be6fe48b5",
   "metadata": {},
   "outputs": [
    {
     "name": "stdout",
     "output_type": "stream",
     "text": [
      "hi & how are you & I am fine\n"
     ]
    }
   ],
   "source": [
    "print(\"hi\",\"how are you\",\"I am fine\",sep=\" & \")"
   ]
  },
  {
   "cell_type": "code",
   "execution_count": null,
   "id": "d4f3daab-c014-4ca8-b5d9-5670b3a266fe",
   "metadata": {},
   "outputs": [],
   "source": []
  }
 ],
 "metadata": {
  "kernelspec": {
   "display_name": "Python [conda env:base] *",
   "language": "python",
   "name": "conda-base-py"
  },
  "language_info": {
   "codemirror_mode": {
    "name": "ipython",
    "version": 3
   },
   "file_extension": ".py",
   "mimetype": "text/x-python",
   "name": "python",
   "nbconvert_exporter": "python",
   "pygments_lexer": "ipython3",
   "version": "3.12.7"
  }
 },
 "nbformat": 4,
 "nbformat_minor": 5
}
